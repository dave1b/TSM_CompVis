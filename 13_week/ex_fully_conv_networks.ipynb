{
 "cells": [
  {
   "cell_type": "markdown",
   "id": "37eb3065",
   "metadata": {},
   "source": [
    "# Fully Convolutional Neural Networks (FCN)\n",
    "\n",
    "In this exercise, we will look how to build a network for semantic segmentation using fully convolutional neural networks.\n",
    "\n",
    "We will not be able to do a full training at the moment, as that would require GPUs, but you can try this by running it locally later if you like.\n"
   ]
  },
  {
   "cell_type": "code",
   "id": "7864dded",
   "metadata": {},
   "source": [
    "from typing import Tuple\n",
    "import numpy as np\n",
    "import skimage\n",
    "import skimage.data\n",
    "import skimage.io\n",
    "import keras\n",
    "import tensorflow\n",
    "\n",
    "# for displaying images in jupyter\n",
    "from matplotlib import pyplot as plt\n",
    "\n",
    "%matplotlib inline\n",
    "import matplotlib.pyplot as plt\n",
    "\n",
    "plt.rcParams['figure.figsize'] = [10, 10]\n",
    "#mpl.rcParams['figure.dpi']= 400"
   ],
   "outputs": [],
   "execution_count": null
  },
  {
   "metadata": {},
   "cell_type": "code",
   "source": "print(\"Num GPUs Available: \", len(tensorflow.config.experimental.list_physical_devices('GPU')))",
   "id": "8fb7a785a9b72eb1",
   "outputs": [],
   "execution_count": null
  },
  {
   "cell_type": "markdown",
   "id": "cd07e70c",
   "metadata": {},
   "source": [
    "If you want to run this on your local computer, you can check if GPU support is configured correctly in your tensorflow installation"
   ]
  },
  {
   "cell_type": "code",
   "id": "7e374722",
   "metadata": {},
   "source": [
    "# check tensorflow installation to see if we have GPU support\n",
    "from tensorflow.python.client import device_lib\n",
    "\n",
    "print(device_lib.list_local_devices())\n",
    "print(keras.__version__)\n",
    "import tensorflow\n",
    "\n",
    "print(tensorflow.__version__)"
   ],
   "outputs": [],
   "execution_count": null
  },
  {
   "cell_type": "markdown",
   "id": "78dd40fc",
   "metadata": {},
   "source": [
    "### Images for smoke tests\n",
    "\n",
    "When building a new network, it is a good idea to check if the network works at all, as it can sometimes take a while until all the hyper parameters are found. For that we generate a function to create some simple test images that we can use to test the network and if it is able to learn. (We will actually only use the test images in this exercise, as training on real images will take long).\n",
    "\n",
    "For semantic segmentation, we need a label for each pixel. We will generate a noisy background image and paint a rectangle at a random position and size over the background. There will be two classes and each class will have a different mean pixel value with noise added.\n",
    "\n"
   ]
  },
  {
   "cell_type": "code",
   "id": "92180a71",
   "metadata": {},
   "source": [
    "def gen_random_binary_test_image(height: int, width: int) -> (np.ndarray, np.ndarray):\n",
    "    \"\"\"\n",
    "    Generate a test image and an appropriate label image with label 0 or label 1\n",
    "    Label 0 images have a lower medium grayscale value, label 1 images a higher one.\n",
    "    \n",
    "    We will select one class for the background and then paint a rectangle over it of the other class.\n",
    "    \n",
    "    The returned images will have shape (height, width, 1) and type uint8 to be as compatible as possible to \n",
    "    images read from files\n",
    "    \"\"\"\n",
    "    VALUE = [85, 170.0]\n",
    "    CLASS_ID = [0, 1]\n",
    "    NOISE = 20.0\n",
    "\n",
    "    label = np.zeros((height, width, 1), dtype=np.uint8)\n",
    "    class_id_bg = np.random.choice(CLASS_ID)\n",
    "    class_id_fg = 1 - class_id_bg\n",
    "\n",
    "    # paint background\n",
    "    label.fill(class_id_bg)\n",
    "    img = np.random.normal(VALUE[class_id_bg], NOISE, ((height, width, 1)))\n",
    "\n",
    "    # start of the rectangle is in the first half\n",
    "    fg_top = np.random.randint(low=0, high=height // 2)\n",
    "    fg_left = np.random.randint(low=0, high=width // 2)\n",
    "\n",
    "    # end of rectangle is in the second half\n",
    "    fg_bottom = np.random.randint(low=height // 2, high=height)\n",
    "    fg_right = np.random.randint(low=width // 2, high=width)\n",
    "\n",
    "    # draw rectangle on label and image\n",
    "    img[fg_top:fg_bottom, fg_left:fg_right] = np.random.normal(VALUE[class_id_fg], NOISE,\n",
    "                                                               (fg_bottom - fg_top, fg_right - fg_left, 1))\n",
    "    label[fg_top:fg_bottom, fg_left:fg_right] = class_id_fg\n",
    "\n",
    "    # make sure there are no values outside\n",
    "    img = np.clip(img, 0.0, 255.0).astype(np.uint8)\n",
    "    return img, label"
   ],
   "outputs": [],
   "execution_count": null
  },
  {
   "cell_type": "code",
   "id": "8bc5365e",
   "metadata": {},
   "source": [
    "image, label = gen_random_binary_test_image(64, 64)\n",
    "plt.subplot(1, 2, 1)\n",
    "plt.imshow(image.reshape((image.shape[0], image.shape[1])))\n",
    "plt.subplot(1, 2, 2)\n",
    "plt.imshow(label.reshape((image.shape[0], image.shape[1])))"
   ],
   "outputs": [],
   "execution_count": null
  },
  {
   "cell_type": "markdown",
   "id": "32c6fc9b",
   "metadata": {},
   "source": [
    "### Batch of data\n",
    "\n",
    "Training is usually done using a batch of data. For semantic segmentation, that will be a batch of images, if the images are too large they should be subdivided into smaller patches. We will also add the normalization of the data in this step. \n",
    "\n",
    "We will just scale the images in the range 0.0 to 1.0 from the full range of 0 to 255. Other possibilities are to scale the images individually according to their minimum and maximum values.\n",
    "\n"
   ]
  },
  {
   "cell_type": "code",
   "id": "6f9a776f",
   "metadata": {},
   "source": [
    "def gen_batch_binary(batch_size, height: int, width: int):\n",
    "    image_list = []\n",
    "    label_list = []\n",
    "    for i in range(batch_size):\n",
    "        img, label = gen_random_binary_test_image(height=height, width=width)\n",
    "        image_list.append(img.astype(np.float32) / 255.0)\n",
    "        label_list.append(label.astype(np.float32))\n",
    "\n",
    "    image_batch = np.array(image_list, dtype=np.float32)\n",
    "    label_batch = np.array(label_list, dtype=np.float32)\n",
    "\n",
    "    # reshape labels as this is not done in the model\n",
    "    label_batch = label_batch.reshape(batch_size, height, width, 1)\n",
    "\n",
    "    return image_batch, label_batch"
   ],
   "outputs": [],
   "execution_count": null
  },
  {
   "cell_type": "code",
   "id": "05ac136c",
   "metadata": {},
   "source": [
    "image_batch, label_batch = gen_batch_binary(100, 128, 128)\n",
    "print(image_batch.shape)\n",
    "print(label_batch.shape)"
   ],
   "outputs": [],
   "execution_count": null
  },
  {
   "cell_type": "markdown",
   "id": "e2326693",
   "metadata": {},
   "source": [
    "## Simple FCN\n",
    "\n",
    "We will create a simple fully convolutional neural network for processing a batch of image patches and demonstrate how to use simple down and upsampling for it."
   ]
  },
  {
   "cell_type": "code",
   "id": "77171f44",
   "metadata": {},
   "source": [
    "def fcn_simple_no_border(input_height: int, input_width: int) -> keras.Model:\n",
    "    \"\"\"\n",
    "    Create a simple fcn model for semantic segmentation with 2 classes\n",
    "    \"\"\"\n",
    "    model = keras.Sequential()\n",
    "\n",
    "    # we use grayscale (1-channel input)\n",
    "\n",
    "    # (used to define input shape on the first layers)\n",
    "    model.add(keras.layers.Input(shape=(input_height, input_width, 1)))\n",
    "\n",
    "    # Downsampling (due to strides = 2)\n",
    "    model.add(keras.layers.Convolution2D(filters=4, kernel_size=3, strides=(2, 2), padding='same', activation='relu'))\n",
    "\n",
    "    # Upsampling with transpose convolutions\n",
    "    model.add(keras.layers.Conv2DTranspose(filters=4, kernel_size=3, strides=(2, 2), padding='same', activation='relu'))\n",
    "\n",
    "    # \"normal\" convolutional filter that preserves the size\n",
    "    model.add(keras.layers.Convolution2D(filters=4, kernel_size=3, padding='same', activation='relu'))\n",
    "\n",
    "    # go to logits which is the number of classes and add sigmoid layer for activation\n",
    "    model.add(keras.layers.Convolution2D(filters=1, kernel_size=1, activation=None,\n",
    "                                         kernel_initializer=keras.initializers.TruncatedNormal(mean=0.0, stddev=0.001,\n",
    "                                                                                               seed=None)))\n",
    "    model.add(keras.layers.Activation('sigmoid'))\n",
    "\n",
    "    return model"
   ],
   "outputs": [],
   "execution_count": null
  },
  {
   "cell_type": "code",
   "id": "49c3b28e",
   "metadata": {},
   "source": [
    "model = fcn_simple_no_border(128, 128)\n",
    "model.summary()"
   ],
   "outputs": [],
   "execution_count": null
  },
  {
   "cell_type": "code",
   "id": "e685b8f1",
   "metadata": {},
   "source": [
    "model.compile(optimizer='rmsprop', loss='binary_crossentropy', metrics=['accuracy'])"
   ],
   "outputs": [],
   "execution_count": null
  },
  {
   "cell_type": "markdown",
   "id": "0ccd0019",
   "metadata": {},
   "source": [
    "Lets see if the model works...."
   ]
  },
  {
   "cell_type": "code",
   "id": "6fede3be",
   "metadata": {},
   "source": "history = model.fit(image_batch, label_batch, epochs=50, batch_size=10, verbose=1)",
   "outputs": [],
   "execution_count": null
  },
  {
   "cell_type": "code",
   "id": "5aa477ce",
   "metadata": {},
   "source": [
    "# Plot training accuracy values\n",
    "plt.plot(history.history['accuracy'])\n",
    "plt.title('Model accuracy')\n",
    "plt.ylabel('Accuracy')\n",
    "plt.xlabel('Epoch')\n",
    "plt.legend(['Train'], loc='upper left')\n",
    "plt.show()\n",
    "\n",
    "# Plot training loss values\n",
    "plt.plot(history.history['loss'])\n",
    "plt.title('Model loss')\n",
    "plt.ylabel('Loss')\n",
    "plt.xlabel('Epoch')\n",
    "plt.legend(['Train'], loc='upper left')\n",
    "plt.show()"
   ],
   "outputs": [],
   "execution_count": null
  },
  {
   "cell_type": "code",
   "id": "40e0c19e",
   "metadata": {},
   "source": [
    "# Apply it to a test image and predict a result (for each pixel)\n",
    "test_img, test_label = gen_batch_binary(1, 128, 128)\n",
    "pred_label = model.predict(test_img)\n",
    "plt.subplot(1, 2, 1)\n",
    "plt.imshow(test_label[0, :, :, :])\n",
    "plt.subplot(1, 2, 2)\n",
    "plt.imshow(pred_label[0, :, :, :])"
   ],
   "outputs": [],
   "execution_count": null
  },
  {
   "cell_type": "markdown",
   "id": "fe73ad1f",
   "metadata": {},
   "source": [
    "## Exercise 1: Categorical data\n",
    "\n",
    "In the example above we had only two classes, but in most applications we want to classify into more classes\n",
    "\n",
    "Change the network and the generation of examples to use 5 classes.\n",
    "\n",
    "We will start with the classes. Modify the generator above to select 2 out of the 5 classes for foreground and background. The mean values for those classes should be equally divided between the classes. I.e. with 3 classes you would want the levels to be at 64, 128, 192. You dont want any levels at 0 or 255 as then you can not add the noise simmetrically."
   ]
  },
  {
   "metadata": {
    "nbgrader": {
     "grade": false,
     "grade_id": "cell-6988fa2ce6aaa7c4",
     "locked": false,
     "schema_version": 3,
     "solution": true,
     "task": false
    }
   },
   "cell_type": "code",
   "source": [
    "def gen_random_test_image_classes(height: int, width: int, nr_classes) -> (np.ndarray, np.ndarray):\n",
    "    \"\"\"\n",
    "    Generate a test image and an appropriate label image with label between 0 and the number of classes.\n",
    "\n",
    "\n",
    "    The returned images will have shape (height, width, 1) and type uint8 to be as compatible as possible to\n",
    "    mages read from files\n",
    "    \"\"\"\n",
    "    # Implementation here\n",
    "    step_size = 255 // (nr_classes + 1)\n",
    "    VALUE = [step_size * i for i in range(1, nr_classes + 1)]\n",
    "    CLASS_ID = [0, 1, 2, 3, 4]\n",
    "    NOISE = 20.0\n",
    "\n",
    "    label = np.zeros((height, width, 1), dtype=np.uint8)\n",
    "    class_id_bg = np.random.choice(CLASS_ID)\n",
    "\n",
    "    # paint background\n",
    "    label.fill(class_id_bg)\n",
    "    img = np.random.normal(VALUE[class_id_bg], NOISE, ((height, width, 1)))\n",
    "\n",
    "    for class_id_fg in range(1, nr_classes):\n",
    "        if class_id_fg == class_id_bg:\n",
    "            continue\n",
    "        # start of the rectangle is in the first half\n",
    "        fg_top = np.random.randint(low=0, high=height // 2)\n",
    "        fg_left = np.random.randint(low=0, high=width // 2)\n",
    "\n",
    "        # end of rectangle is in the second half\n",
    "        fg_bottom = np.random.randint(low=height // 2, high=height)\n",
    "        fg_right = np.random.randint(low=width // 2, high=width)\n",
    "\n",
    "        # draw rectangle on label and image\n",
    "        img[fg_top:fg_bottom, fg_left:fg_right] = np.random.normal(VALUE[class_id_fg], NOISE,\n",
    "                                                                   (fg_bottom - fg_top, fg_right - fg_left, 1))\n",
    "        label[fg_top:fg_bottom, fg_left:fg_right] = class_id_fg\n",
    "\n",
    "    # make sure there are no values outside\n",
    "    img = np.clip(img, 0.0, 255.0).astype(np.uint8)\n",
    "    return img, label\n",
    "\n"
   ],
   "id": "41dcda0a",
   "outputs": [],
   "execution_count": null
  },
  {
   "cell_type": "code",
   "id": "3931f822",
   "metadata": {
    "nbgrader": {
     "grade": true,
     "grade_id": "cell-8ec758753a56a0e7",
     "locked": true,
     "points": 1,
     "schema_version": 3,
     "solution": false,
     "task": false
    }
   },
   "source": [
    "image, label = gen_random_test_image_classes(64, 64, 5)\n",
    "np.testing.assert_array_equal(image.shape, (64, 64, 1))\n",
    "np.testing.assert_array_equal(label.shape, (64, 64, 1))\n",
    "plt.subplot(1, 2, 1)\n",
    "plt.imshow(image.reshape((image.shape[0], image.shape[1])))\n",
    "plt.subplot(1, 2, 2)\n",
    "plt.imshow(label.reshape((image.shape[0], image.shape[1])), vmax=5)\n",
    "print(image.dtype)"
   ],
   "outputs": [],
   "execution_count": null
  },
  {
   "cell_type": "markdown",
   "id": "763f2fe2",
   "metadata": {},
   "source": [
    "We again add a function that generates a batch of images."
   ]
  },
  {
   "cell_type": "code",
   "id": "4a0a4c67",
   "metadata": {},
   "source": [
    "def gen_batch_image_classes(batch_size, height: int, width: int, nr_classes: int):\n",
    "    image_list = []\n",
    "    label_list = []\n",
    "    for i in range(batch_size):\n",
    "        img, label = gen_random_test_image_classes(height=height, width=width, nr_classes=nr_classes)\n",
    "        image_list.append(img.astype(np.float32) / 255.0)\n",
    "        label_list.append(label.astype(np.float32))\n",
    "\n",
    "    image_batch = np.array(image_list, dtype=np.float32)\n",
    "    label_batch = np.array(label_list, dtype=np.float32)\n",
    "\n",
    "    # reshape labels as this is not done in the model\n",
    "    # label_batch = label_batch.reshape(batch_size, (height-2*border)*(width-2*border), 1)\n",
    "    label_batch = keras.utils.to_categorical(label_batch, num_classes=nr_classes)\n",
    "\n",
    "    return image_batch, label_batch"
   ],
   "outputs": [],
   "execution_count": null
  },
  {
   "cell_type": "markdown",
   "id": "9c33bbe7",
   "metadata": {},
   "source": [
    "Often it is not possible to load an entire dataset into memory and train it all from there. One solution it to use a so called generator that will provide data that can for example be read from files. We will simulate a generator here, that will just continously generate new data."
   ]
  },
  {
   "cell_type": "code",
   "id": "99513c24",
   "metadata": {},
   "source": [
    "# Generator\n",
    "def batch_generator_image_classes(batch_size, height: int, width: int, nr_classes: int):\n",
    "    while True:\n",
    "        image_batch, label_batch = gen_batch_image_classes(batch_size=batch_size,\n",
    "                                                           height=height, width=width,\n",
    "                                                           nr_classes=nr_classes)\n",
    "        yield image_batch, label_batch"
   ],
   "outputs": [],
   "execution_count": null
  },
  {
   "cell_type": "markdown",
   "id": "a88610a5",
   "metadata": {},
   "source": [
    "## Exercise 2: Network to process categorical data\n",
    "\n",
    "Now we need to generate a new model that can deal with categorical data. What needs to be changed?"
   ]
  },
  {
   "cell_type": "code",
   "id": "37f86210",
   "metadata": {
    "nbgrader": {
     "grade": false,
     "grade_id": "cell-43629020013ba367",
     "locked": false,
     "schema_version": 3,
     "solution": true,
     "task": false
    }
   },
   "source": [
    "def fcn_multiple_classes(input_height: int, input_width: int, nr_classes: int) -> (keras.Model, int):\n",
    "    \"\"\"\n",
    "    Create a simple fcn model for semantic segmentation with the indicated number of  classes.\n",
    "    \"\"\"\n",
    "    model = keras.Sequential()\n",
    "\n",
    "    # we use grayscale (1-channel input)\n",
    "\n",
    "    # (used to define input shape on the first layers)\n",
    "    model.add(keras.layers.Input(shape=(input_height, input_width, 1)))\n",
    "\n",
    "    # Downsampling (due to strides = 2)\n",
    "    model.add(keras.layers.Convolution2D(filters=4, kernel_size=3, strides=(2, 2), padding='same', activation='relu'))\n",
    "\n",
    "    # Upsampling with transpose convolutions\n",
    "    model.add(keras.layers.Conv2DTranspose(filters=4, kernel_size=3, strides=(2, 2), padding='same', activation='relu'))\n",
    "\n",
    "    # \"normal\" convolutional filter that preserves the size\n",
    "    model.add(keras.layers.Convolution2D(filters=4, kernel_size=3, padding='same', activation='relu'))\n",
    "\n",
    "    # go to logits which is the number of classes and add sigmoid layer for activation\n",
    "    model.add(keras.layers.Convolution2D(filters=nr_classes, kernel_size=1, activation=None,\n",
    "                                         kernel_initializer=keras.initializers.TruncatedNormal(mean=0.0, stddev=0.001,\n",
    "                                                                                               seed=None)))\n",
    "    model.add(keras.layers.Activation('softmax'))\n",
    "\n",
    "    return model"
   ],
   "outputs": [],
   "execution_count": null
  },
  {
   "cell_type": "code",
   "id": "a9f7d56a",
   "metadata": {
    "nbgrader": {
     "grade": true,
     "grade_id": "cell-4370aa5684e3f7ae",
     "locked": true,
     "points": 1,
     "schema_version": 3,
     "solution": false,
     "task": false
    }
   },
   "source": [
    "model = fcn_multiple_classes(128, 128, 5)\n",
    "model.summary()\n",
    "assert model is not None"
   ],
   "outputs": [],
   "execution_count": null
  },
  {
   "cell_type": "markdown",
   "id": "918c1ed4",
   "metadata": {},
   "source": [
    "Next we need to compile the model. What needs to be changed from the previous 2 class model? \n"
   ]
  },
  {
   "cell_type": "code",
   "id": "86ba560a",
   "metadata": {
    "nbgrader": {
     "grade": false,
     "grade_id": "cell-5e79f2d1e8a65f55",
     "locked": false,
     "schema_version": 3,
     "solution": true,
     "task": false
    }
   },
   "source": "model.compile(optimizer='rmsprop', loss='categorical_crossentropy', metrics=['accuracy'])",
   "outputs": [],
   "execution_count": null
  },
  {
   "cell_type": "code",
   "id": "0edd7e86",
   "metadata": {
    "nbgrader": {
     "grade": true,
     "grade_id": "cell-59848e27ff5bc49e",
     "locked": true,
     "points": 1,
     "schema_version": 3,
     "solution": false,
     "task": false
    }
   },
   "source": [
    "model.summary()"
   ],
   "outputs": [],
   "execution_count": null
  },
  {
   "cell_type": "markdown",
   "id": "2820951c",
   "metadata": {},
   "source": [
    "### Exercise 3: Train the model\n",
    "\n",
    "Now train the model using the batch generator and save the result in history. You should be able to recieve an accuracy of 0.99 or better on this data."
   ]
  },
  {
   "cell_type": "code",
   "id": "b300c762",
   "metadata": {
    "nbgrader": {
     "grade": false,
     "grade_id": "cell-021b30b2a60d8dcc",
     "locked": false,
     "schema_version": 3,
     "solution": true,
     "task": false
    }
   },
   "source": [
    "history = None\n",
    "\n",
    "PATCH_HEIGHT = 64\n",
    "PATCH_WIDTH = 64\n",
    "BATCH_SIZE = 128\n",
    "EPOCHS = 5\n",
    "NR_CLASSES = 5\n",
    "STEPS_PER_EPOCH = 100\n",
    "image_batch, label_batch = gen_batch_image_classes(BATCH_SIZE, PATCH_HEIGHT, PATCH_WIDTH, NR_CLASSES)\n",
    "model = fcn_multiple_classes(PATCH_HEIGHT, PATCH_WIDTH, NR_CLASSES)\n",
    "model.compile(optimizer='adam', loss='categorical_crossentropy', metrics=['accuracy'])\n",
    "history = model.fit(\n",
    "    batch_generator_image_classes(BATCH_SIZE, PATCH_HEIGHT, PATCH_WIDTH, NR_CLASSES),\n",
    "    epochs=EPOCHS,\n",
    "    verbose=1,\n",
    "    steps_per_epoch=STEPS_PER_EPOCH,\n",
    "    shuffle=False,\n",
    "    callbacks=None)\n"
   ],
   "outputs": [],
   "execution_count": null
  },
  {
   "metadata": {},
   "cell_type": "code",
   "source": [
    "# Plot training accuracy values\n",
    "plt.plot(history.history['accuracy'])\n",
    "plt.title('Model accuracy')\n",
    "plt.ylabel('Accuracy')\n",
    "plt.xlabel('Epoch')\n",
    "plt.legend(['Train'], loc='upper left')"
   ],
   "id": "1e1cf08269b2e9fc",
   "outputs": [],
   "execution_count": null
  },
  {
   "metadata": {
    "ExecuteTime": {
     "end_time": "2024-12-17T13:49:46.140576Z",
     "start_time": "2024-12-17T13:49:46.011168Z"
    }
   },
   "cell_type": "code",
   "source": [
    "# Apply it to a test image and predict a result (for each pixel)\n",
    "test_img, test_label = gen_batch_image_classes(1, 128, 128,5)\n",
    "pred_label = model.predict(test_img)\n",
    "plt.subplot(1, 2, 1)\n",
    "plt.imshow(np.argmax(test_label[0, :, :, :], axis=-1))\n",
    "plt.subplot(1, 2, 2)\n",
    "plt.imshow(np.argmax(pred_label[0, :, :, :], axis=-1))"
   ],
   "id": "28e95c026021c151",
   "outputs": [
    {
     "name": "stdout",
     "output_type": "stream",
     "text": [
      "\u001B[1m1/1\u001B[0m \u001B[32m━━━━━━━━━━━━━━━━━━━━\u001B[0m\u001B[37m\u001B[0m \u001B[1m0s\u001B[0m 14ms/step\n"
     ]
    },
    {
     "data": {
      "text/plain": [
       "<matplotlib.image.AxesImage at 0x35b889460>"
      ]
     },
     "execution_count": 118,
     "metadata": {},
     "output_type": "execute_result"
    },
    {
     "data": {
      "text/plain": [
       "<Figure size 1000x1000 with 2 Axes>"
      ],
      "image/png": "[encoded data removed]"
     },
     "metadata": {},
     "output_type": "display_data"
    }
   ],
   "execution_count": 118
  },
  {
   "metadata": {
    "nbgrader": {
     "grade": true,
     "grade_id": "cell-a262411dc6fef6a4",
     "locked": true,
     "points": 1,
     "schema_version": 3,
     "solution": false,
     "task": false
    },
    "ExecuteTime": {
     "end_time": "2024-12-17T13:49:57.839065Z",
     "start_time": "2024-12-17T13:49:57.825695Z"
    }
   },
   "cell_type": "code",
   "outputs": [
    {
     "ename": "AssertionError",
     "evalue": "",
     "output_type": "error",
     "traceback": [
      "\u001B[0;31m---------------------------------------------------------------------------\u001B[0m",
      "\u001B[0;31mAssertionError\u001B[0m                            Traceback (most recent call last)",
      "Cell \u001B[0;32mIn[119], line 1\u001B[0m\n\u001B[0;32m----> 1\u001B[0m \u001B[38;5;28;01massert\u001B[39;00m history\u001B[38;5;241m.\u001B[39mhistory[\u001B[38;5;124m'\u001B[39m\u001B[38;5;124maccuracy\u001B[39m\u001B[38;5;124m'\u001B[39m][\u001B[38;5;241m-\u001B[39m\u001B[38;5;241m1\u001B[39m] \u001B[38;5;241m>\u001B[39m \u001B[38;5;241m0.9\u001B[39m\n",
      "\u001B[0;31mAssertionError\u001B[0m: "
     ]
    }
   ],
   "execution_count": 119,
   "source": "assert history.history['accuracy'][-1] > 0.9",
   "id": "a73197ef"
  }
 ],
 "metadata": {
  "kernelspec": {
   "display_name": "Python 3 (ipykernel)",
   "language": "python",
   "name": "python3"
  },
  "language_info": {
   "codemirror_mode": {
    "name": "ipython",
    "version": 3
   },
   "file_extension": ".py",
   "mimetype": "text/x-python",
   "name": "python",
   "nbconvert_exporter": "python",
   "pygments_lexer": "ipython3",
   "version": "3.12.7"
  }
 },
 "nbformat": 4,
 "nbformat_minor": 5
}
