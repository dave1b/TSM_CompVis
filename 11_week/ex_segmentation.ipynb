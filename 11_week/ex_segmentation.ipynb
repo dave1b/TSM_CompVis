{
 "cells": [
  {
   "cell_type": "markdown",
   "metadata": {
    "collapsed": true,
    "jupyter": {
     "outputs_hidden": true
    }
   },
   "source": [
    "# Introduction to Segmentation\n",
    "\n",
    "In this exercise we will look at different segmentation algorithms.\n",
    "\n",
    "##  Clustering\n",
    "\n",
    "One of the basic unsupervised learning approaches is clustering, where the algorithm has to find out which part of the data belongs together in one cluster. \n",
    "\n",
    "For segmentation, this data is taken from the pixel values, possible from a neighborhood of the pixels and often by calculating specific features in this region. However, for the moment we will use the raw (color) data of the pixels and possibly also the location and look at features later."
   ]
  },
  {
   "cell_type": "code",
   "execution_count": null,
   "metadata": {},
   "outputs": [],
   "source": [
    "import numpy as np\n",
    "import skimage\n",
    "import skimage.data\n",
    "import skimage.io\n",
    "import skimage.future\n",
    "import skimage.segmentation\n",
    "import sklearn.cluster\n",
    "\n",
    "\n",
    "# for displaying images in jupyter\n",
    "from matplotlib import pyplot as plt\n",
    "\n",
    "%matplotlib inline\n",
    "import matplotlib.pyplot as plt\n",
    "plt.rcParams['figure.figsize'] = [10, 5]\n",
    "#mpl.rcParams['figure.dpi']= 400"
   ]
  },
  {
   "cell_type": "markdown",
   "metadata": {},
   "source": [
    "\n",
    "\n",
    "\n",
    "## Exercise 1: Using KMeans for background subtraction on a medical image\n",
    "\n",
    "In the first exercise, we want to extract the background from an image showning the hands on green background. The image is a sample from out project to detect eczema, however we will only be concerned about finding the background and the hands.\n",
    "\n",
    "<img src=./images/hand_green_small.png width=400px>\n",
    "\n",
    "This could also be achieved by defining a suitable range of color for either the background or the foreground and use thresholding. We want to find out, if it is also possible using k-Means.\n",
    "\n",
    "Use kmeans for clustering all the pixels in the image into 2 clusters using only the RGB values.\n",
    "\n",
    "If we use the raw pixels, the position of the pixels do not matter. You will have to reshape the image into a 1D Array of RGB values and convert them to float.\n",
    "\n",
    "There are different implementations of kmeans available, most noteworthy an opencv and a sklearn implementation. \n",
    "\n",
    "https://scikit-learn.org/stable/modules/generated/sklearn.cluster.KMeans.html\n"
   ]
  },
  {
   "cell_type": "code",
   "execution_count": null,
   "metadata": {},
   "outputs": [],
   "source": [
    "image  = skimage.io.imread('images/hand_green_small.png')\n",
    "plt.imshow(image)"
   ]
  },
  {
   "cell_type": "code",
   "execution_count": null,
   "metadata": {},
   "outputs": [],
   "source": [
    "# Use k-means to find 2 clusters and display them\n",
    "# For displaying you can use either the found cluster centers as colors or overlay the labels, see skimage.color.label2rgb"
   ]
  },
  {
   "cell_type": "markdown",
   "metadata": {},
   "source": [
    "\n"
   ]
  },
  {
   "cell_type": "markdown",
   "metadata": {},
   "source": [
    "### Further questions\n",
    "\n",
    "How can you find out, if the segmentation was good or not?"
   ]
  },
  {
   "cell_type": "code",
   "execution_count": null,
   "metadata": {},
   "outputs": [],
   "source": [
    "# Calculate a value that indicates the result of the k-means algorithm.\n"
   ]
  },
  {
   "cell_type": "markdown",
   "metadata": {},
   "source": [
    "## Exercise 2: K-Means with multiple labels.\n",
    "\n",
    "Try the K-Means Algorithmus on the following image to seperate the different colored figures and the gray and black background.\n",
    "\n",
    "<img src=./images/carcassonne_figures.jpg width=400px>"
   ]
  },
  {
   "cell_type": "code",
   "execution_count": null,
   "metadata": {},
   "outputs": [],
   "source": [
    "image = skimage.io.imread('images/carcassonne_figures.jpg')\n",
    "data = image.reshape((-1,3)).astype(np.float32)\n",
    "plt.imshow(image)"
   ]
  },
  {
   "cell_type": "code",
   "execution_count": null,
   "metadata": {},
   "outputs": [],
   "source": []
  },
  {
   "cell_type": "markdown",
   "metadata": {},
   "source": [
    "### Further questions\n",
    "\n",
    "Try different values for the number of clusters. What results do you get?\n",
    "\n",
    "One for the problems is that similar colors with different intensity will end up in different clusters. How could you solve that issue?"
   ]
  },
  {
   "cell_type": "code",
   "execution_count": null,
   "metadata": {},
   "outputs": [],
   "source": [
    "# Use a different color space for k-Means\n"
   ]
  },
  {
   "cell_type": "markdown",
   "metadata": {},
   "source": [
    "## Exercise 3: Different segmentations for autonoumous vehicels.  \n",
    "\n",
    "We want to try out different segmentation algorithms on a more difficult image from a dataset for semantic segmentation for autonomous vehicles:\n",
    "\n",
    "<img src=./images/000041_10.png width=400px>\n",
    "\n",
    "### Exercise 3.1. k-Means\n",
    "\n",
    "Try K-Means on this data set."
   ]
  },
  {
   "cell_type": "code",
   "execution_count": null,
   "metadata": {},
   "outputs": [],
   "source": [
    "image = skimage.io.imread('images/000041_10.png')\n",
    "data = image.reshape((-1,3)).astype(np.float32)\n",
    "plt.imshow(image)"
   ]
  },
  {
   "cell_type": "code",
   "execution_count": null,
   "metadata": {},
   "outputs": [],
   "source": []
  },
  {
   "cell_type": "markdown",
   "metadata": {},
   "source": [
    "### Exercise 3.2: Superpixel segmentation\n",
    "\n",
    "The skimage library has methods that directly segment the images into clusters using both the pixel coordinates and the color. Such methods are often used as a preliminary processing step of clustering an image into so called superpixel which can then be input into a further, often graph based, segmentation algorithm.\n",
    "\n",
    "Try this segmentation using \n",
    "http://scikit-image.org/docs/dev/api/skimage.segmentation.html#skimage.segmentation.slic\n",
    "\n"
   ]
  },
  {
   "cell_type": "code",
   "execution_count": null,
   "metadata": {},
   "outputs": [],
   "source": []
  },
  {
   "cell_type": "markdown",
   "metadata": {},
   "source": [
    "### Exercise 3.3: GraphCut\n",
    "\n",
    "The skimage packages contains a graph cut algorithms to segment a (superpixel) image using the graph cut algorithms.\n",
    "\n",
    "To use is, first the *Region Adjacency Graph* of the segmented superpixels must be constructed:\n",
    "\n",
    "http://scikit-image.org/docs/dev/api/skimage.graph.html#skimage.graph.rag_mean_color\n",
    "\n",
    "\n",
    "and then the graph cut algorithms can be applied:\n",
    "\n",
    "https://scikit-image.org/docs/stable/api/skimage.graph.html#skimage.graph.cut_normalized\n",
    "\n",
    "Use both methods to segment the result of the superpixel segmentation using graph cuts and display the result.\n"
   ]
  },
  {
   "cell_type": "markdown",
   "metadata": {},
   "source": [
    "### Exercise 3.4: Mean Shift Segmentation\n",
    "\n",
    "As the next exercise, we would like to solve the same clustering using mean shift. There is an implementation in sklearn:\n",
    "\n",
    "https://scikit-learn.org/stable/modules/generated/sklearn.cluster.MeanShift.html\n",
    "\n",
    "Mean shift is quite a slow algorithm...\n",
    "\n",
    "The mean shift algorithms will first evaluate the kernel to be used. This can be done seperately to have more control over values.\n",
    "\n"
   ]
  },
  {
   "cell_type": "code",
   "execution_count": null,
   "metadata": {
    "collapsed": false,
    "jupyter": {
     "outputs_hidden": false
    },
    "pycharm": {
     "name": "#%%\n"
    }
   },
   "outputs": [],
   "source": [
    "bandwidth = sklearn.cluster.estimate_bandwidth(data, quantile=0.2, n_samples=5000)\n",
    "print(bandwidth)"
   ]
  },
  {
   "cell_type": "markdown",
   "metadata": {},
   "source": [
    "Now create a meanshift object, fit the data and display the result again."
   ]
  },
  {
   "cell_type": "code",
   "execution_count": null,
   "metadata": {
    "collapsed": false,
    "jupyter": {
     "outputs_hidden": false
    },
    "pycharm": {
     "name": "#%%\n"
    }
   },
   "outputs": [],
   "source": []
  },
  {
   "cell_type": "markdown",
   "metadata": {},
   "source": [
    "## Exercise 4 (optional): k-Means with position and color\n",
    "\n",
    "Implement a k-Means clustering that uses the position of a pixel together with the color for clustering.\n"
   ]
  },
  {
   "cell_type": "code",
   "execution_count": null,
   "metadata": {},
   "outputs": [],
   "source": []
  }
 ],
 "metadata": {
  "kernelspec": {
   "display_name": "Python 3 (ipykernel)",
   "language": "python",
   "name": "python3"
  },
  "language_info": {
   "codemirror_mode": {
    "name": "ipython",
    "version": 3
   },
   "file_extension": ".py",
   "mimetype": "text/x-python",
   "name": "python",
   "nbconvert_exporter": "python",
   "pygments_lexer": "ipython3",
   "version": "3.10.13"
  }
 },
 "nbformat": 4,
 "nbformat_minor": 4
}
