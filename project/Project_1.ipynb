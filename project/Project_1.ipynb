{
 "cells": [
  {
   "cell_type": "code",
   "id": "initial_id",
   "metadata": {
    "collapsed": true,
    "jupyter": {
     "outputs_hidden": true
    },
    "ExecuteTime": {
     "end_time": "2024-10-29T21:12:09.691747Z",
     "start_time": "2024-10-29T21:12:09.688753Z"
    }
   },
   "source": [
    "import os\n",
    "\n",
    "import skimage.feature\n",
    "import skimage.transform.hough_transform as ht\n",
    "import matplotlib.pyplot as plt\n",
    "import numpy as np\n",
    "import ipywidgets as widgets\n",
    "from skimage.io import imread"
   ],
   "outputs": [],
   "execution_count": 67
  },
  {
   "cell_type": "code",
   "id": "de86016b3c621db7",
   "metadata": {
    "ExecuteTime": {
     "end_time": "2024-10-29T21:12:09.709369Z",
     "start_time": "2024-10-29T21:12:09.707174Z"
    }
   },
   "source": [
    "import random\n",
    "\n",
    "\n",
    "def random_color():\n",
    "    return (random.random(), random.random(), random.random())"
   ],
   "outputs": [],
   "execution_count": 68
  },
  {
   "cell_type": "markdown",
   "id": "c117dc910896c797",
   "metadata": {},
   "source": [
    "### Load images"
   ]
  },
  {
   "cell_type": "code",
   "id": "55ae8f750650c8d7",
   "metadata": {
    "ExecuteTime": {
     "end_time": "2024-10-29T21:12:09.743605Z",
     "start_time": "2024-10-29T21:12:09.719360Z"
    }
   },
   "source": [
    "folder_1 = \"images_vol_1\"\n",
    "folder_2 = \"images_vol_2\"\n",
    "images = []\n",
    "\n",
    "\n",
    "def load_images_from_folder(folder):\n",
    "    images = []\n",
    "    for filename in os.listdir(folder):\n",
    "        if filename.endswith(\".jpg\") or filename.endswith(\".png\"):\n",
    "            img = imread(os.path.join(folder, filename))\n",
    "            if img is not None:\n",
    "                scaled_image = skimage.transform.resize(img, (img.shape[0] // 2, img.shape[1] // 2))\n",
    "                img_bw = skimage.color.rgb2gray(scaled_image)\n",
    "                images.append(img_bw)\n",
    "    return images\n",
    "\n",
    "\n",
    "def crop_image(img, border_size=10):\n",
    "    return img[border_size:-border_size, border_size:-border_size]"
   ],
   "outputs": [],
   "execution_count": 69
  },
  {
   "cell_type": "code",
   "id": "8f904997b01e71ca",
   "metadata": {
    "ExecuteTime": {
     "end_time": "2024-10-29T21:12:22.192527Z",
     "start_time": "2024-10-29T21:12:09.749217Z"
    }
   },
   "source": [
    "images = load_images_from_folder(folder_1)"
   ],
   "outputs": [],
   "execution_count": 70
  },
  {
   "cell_type": "code",
   "id": "7f3b7f390c584183",
   "metadata": {
    "ExecuteTime": {
     "end_time": "2024-10-29T21:12:22.323640Z",
     "start_time": "2024-10-29T21:12:22.201419Z"
    }
   },
   "source": [
    "@widgets.interact(image_index=(0, len(images) - 1, 1))\n",
    "def plot_images(image_index):\n",
    "    plt.imshow(images[image_index], cmap=\"gray\")"
   ],
   "outputs": [
    {
     "data": {
      "text/plain": [
       "interactive(children=(IntSlider(value=10, description='image_index', max=20), Output()), _dom_classes=('widget…"
      ],
      "application/vnd.jupyter.widget-view+json": {
       "version_major": 2,
       "version_minor": 0,
       "model_id": "784335fca57843159de6341129ececb2"
      }
     },
     "metadata": {},
     "output_type": "display_data"
    }
   ],
   "execution_count": 71
  },
  {
   "cell_type": "markdown",
   "id": "7a321d9d8fa1c27b",
   "metadata": {},
   "source": [
    "## Edge detection"
   ]
  },
  {
   "cell_type": "code",
   "id": "f821018b48d72a5",
   "metadata": {
    "ExecuteTime": {
     "end_time": "2024-10-29T21:12:22.335287Z",
     "start_time": "2024-10-29T21:12:22.333340Z"
    }
   },
   "source": [
    "def edge_detection(images, sigma=2.5, low_threshold=0.1, high_threshold=0.3):\n",
    "    imgs_edges = []\n",
    "\n",
    "    for img in images:\n",
    "        imgs_edges.append(\n",
    "            skimage.feature.canny(img, low_threshold=low_threshold, high_threshold=high_threshold, sigma=sigma))\n",
    "    return imgs_edges"
   ],
   "outputs": [],
   "execution_count": 72
  },
  {
   "cell_type": "code",
   "id": "3b53e3e88a8b4dd7",
   "metadata": {
    "ExecuteTime": {
     "end_time": "2024-10-29T21:12:22.536266Z",
     "start_time": "2024-10-29T21:12:22.345323Z"
    }
   },
   "source": [
    "# plot edges for each image with setting the threshold etc.\n",
    "@widgets.interact(image_index=(0, len(images) - 1, 1), sigma=(0.1, 5, 0.1), low_threshold=(0, 1, 0.01),\n",
    "                  high_threshold=(0, 1, 0.01))\n",
    "def plot_edges(image_index, sigma=2.5, low_threshold=0.1, high_threshold=0.3):\n",
    "    plt.imshow(edge_detection([images[image_index]], sigma=sigma, low_threshold=low_threshold,\n",
    "                              high_threshold=high_threshold)[0])\n"
   ],
   "outputs": [
    {
     "data": {
      "text/plain": [
       "interactive(children=(IntSlider(value=10, description='image_index', max=20), FloatSlider(value=2.5, descripti…"
      ],
      "application/vnd.jupyter.widget-view+json": {
       "version_major": 2,
       "version_minor": 0,
       "model_id": "45e506b5d7db4693923ae3b2ddf7d0a0"
      }
     },
     "metadata": {},
     "output_type": "display_data"
    }
   ],
   "execution_count": 73
  },
  {
   "cell_type": "code",
   "id": "f1d56d56e6bdac31",
   "metadata": {
    "ExecuteTime": {
     "end_time": "2024-10-29T21:12:24.787176Z",
     "start_time": "2024-10-29T21:12:22.727606Z"
    }
   },
   "source": [
    "imgs_edges = edge_detection(images, sigma=2.5, low_threshold=0.1, high_threshold=0.3)"
   ],
   "outputs": [],
   "execution_count": 74
  },
  {
   "cell_type": "code",
   "id": "691c131e8753ebf4",
   "metadata": {
    "ExecuteTime": {
     "end_time": "2024-10-29T21:12:24.794994Z",
     "start_time": "2024-10-29T21:12:24.793599Z"
    }
   },
   "source": [
    "# imgs_edges = [crop_image(img) for img in imgs_edges]"
   ],
   "outputs": [],
   "execution_count": 75
  },
  {
   "cell_type": "code",
   "id": "76d21d29e4c3f25b",
   "metadata": {
    "ExecuteTime": {
     "end_time": "2024-10-29T21:12:24.883142Z",
     "start_time": "2024-10-29T21:12:24.802035Z"
    }
   },
   "source": [
    "@widgets.interact(image_index=(0, len(images) - 1, 1))\n",
    "def plot_lines(image_index):\n",
    "    plt.imshow(imgs_edges[image_index])"
   ],
   "outputs": [
    {
     "data": {
      "text/plain": [
       "interactive(children=(IntSlider(value=10, description='image_index', max=20), Output()), _dom_classes=('widget…"
      ],
      "application/vnd.jupyter.widget-view+json": {
       "version_major": 2,
       "version_minor": 0,
       "model_id": "2e45e06cdecf4db5858de40ede0bf42d"
      }
     },
     "metadata": {},
     "output_type": "display_data"
    }
   ],
   "execution_count": 76
  },
  {
   "cell_type": "markdown",
   "id": "c11b7efbc7961027",
   "metadata": {},
   "source": [
    "## Hough transform"
   ]
  },
  {
   "cell_type": "code",
   "id": "5a448d8de506a01b",
   "metadata": {
    "ExecuteTime": {
     "end_time": "2024-10-29T21:12:25.379308Z",
     "start_time": "2024-10-29T21:12:24.893105Z"
    }
   },
   "source": [
    "def find_lines(imgs_edges, threshold=15):\n",
    "    lines_list = []\n",
    "    for index, img_edges in enumerate(imgs_edges):\n",
    "        # Perform Hough transform\n",
    "        hspace, angles, dists = ht.hough_line(img_edges)\n",
    "\n",
    "        # Find peaks in the Hough transform\n",
    "        hspace_peaks, angles_peaks, dists_peaks = ht.hough_line_peaks(hspace, angles, dists, threshold=threshold)\n",
    "\n",
    "        # Collect the lines\n",
    "        lines = []\n",
    "        for angle, dist in zip(angles_peaks, dists_peaks):\n",
    "            p0 = (dist * np.cos(angle), dist * np.sin(angle))\n",
    "            p1 = (p0[0] + 1000 * np.sin(angle), p0[1] - 1000 * np.cos(angle))\n",
    "            lines.append((angle, dist, img_edges, np.array((*p0, 1)), np.array((*p1, 1))))\n",
    "        lines_list.append(lines)\n",
    "    return lines_list\n",
    "\n",
    "\n",
    "# Example usage\n",
    "imgs_lines = find_lines(imgs_edges, 100)"
   ],
   "outputs": [],
   "execution_count": 77
  },
  {
   "cell_type": "code",
   "id": "27941f4d1a312454",
   "metadata": {
    "ExecuteTime": {
     "end_time": "2024-10-29T21:12:25.387728Z",
     "start_time": "2024-10-29T21:12:25.385612Z"
    }
   },
   "source": [
    "print(f'On average {np.mean([len(lines) for lines in imgs_lines]):.1f} lines per image')"
   ],
   "outputs": [
    {
     "name": "stdout",
     "output_type": "stream",
     "text": [
      "On average 7.5 lines per image\n"
     ]
    }
   ],
   "execution_count": 78
  },
  {
   "cell_type": "code",
   "id": "f9db714165243439",
   "metadata": {
    "ExecuteTime": {
     "end_time": "2024-10-29T21:12:25.454279Z",
     "start_time": "2024-10-29T21:12:25.408765Z"
    }
   },
   "source": [
    "# plot lines for each image\n",
    "@widgets.interact(image_index=(0, len(images) - 1, 1))\n",
    "def plot_lines(image_index):\n",
    "    # Set the DPI (dots per inch)\n",
    "    plt.imshow(imgs_edges[image_index])\n",
    "    for angle, dist, _, p0, p1 in imgs_lines[image_index]:\n",
    "        y0 = (dist - 0 * np.cos(angle)) / np.sin(angle)\n",
    "        y1 = (dist - imgs_edges[image_index].shape[1] * np.cos(angle)) / np.sin(angle)\n",
    "        plt.plot(p0[0], p0[1], 'ro')\n",
    "        plt.plot(p1[0], p1[1], 'ro')\n",
    "        plt.plot((0, imgs_edges[image_index].shape[1]), (y0, y1), color=\"red\")"
   ],
   "outputs": [
    {
     "data": {
      "text/plain": [
       "interactive(children=(IntSlider(value=10, description='image_index', max=20), Output()), _dom_classes=('widget…"
      ],
      "application/vnd.jupyter.widget-view+json": {
       "version_major": 2,
       "version_minor": 0,
       "model_id": "b387ab82d5a74bfbbeeeda8eb7122f08"
      }
     },
     "metadata": {},
     "output_type": "display_data"
    }
   ],
   "execution_count": 79
  },
  {
   "cell_type": "code",
   "id": "c7b9637dd91dde13",
   "metadata": {
    "ExecuteTime": {
     "end_time": "2024-10-29T21:12:25.632414Z",
     "start_time": "2024-10-29T21:12:25.470310Z"
    }
   },
   "source": [
    "@widgets.interact(image_index=(0, len(images) - 1, 1))\n",
    "def plot_lines(image_index):\n",
    "    plt.imshow(imgs_edges[image_index])\n",
    "    for angle, dist, edges, p0, p1 in imgs_lines[image_index]:\n",
    "        # Find all pixels in the edge image that align with this line\n",
    "        y_idxs, x_idxs = np.nonzero(edges)\n",
    "        coords = []\n",
    "\n",
    "        for x, y in zip(x_idxs, y_idxs):\n",
    "            # Calculate rho for each (x, y) and check if it lies near the detected line\n",
    "            rho = x * np.cos(angle) + y * np.sin(angle)\n",
    "            if np.abs(rho - dist) < 2:  # Threshold tolerance for matching line points\n",
    "                coords.append((x, y))\n",
    "\n",
    "        # If we have points for this line, find the endpoints\n",
    "        if coords:\n",
    "            x_coords, y_coords = zip(*coords)\n",
    "            plt.plot(x_coords, y_coords, '-r')  # Plot line segment in red"
   ],
   "outputs": [
    {
     "data": {
      "text/plain": [
       "interactive(children=(IntSlider(value=10, description='image_index', max=20), Output()), _dom_classes=('widget…"
      ],
      "application/vnd.jupyter.widget-view+json": {
       "version_major": 2,
       "version_minor": 0,
       "model_id": "6db71033e20d46159494f3f13005a34d"
      }
     },
     "metadata": {},
     "output_type": "display_data"
    }
   ],
   "execution_count": 80
  },
  {
   "cell_type": "code",
   "id": "62bd9c3d9680d68f",
   "metadata": {
    "ExecuteTime": {
     "end_time": "2024-10-29T21:12:25.780341Z",
     "start_time": "2024-10-29T21:12:25.641681Z"
    }
   },
   "source": [
    "# plot lines for each image\n",
    "@widgets.interact(image_index=(0, len(images) - 1, 1))\n",
    "def plot_points(image_index):\n",
    "    lines = []\n",
    "    plt.imshow(imgs_edges[image_index])\n",
    "    for angle, dist, _, p0, p1 in imgs_lines[image_index]:\n",
    "        y0 = (dist - 0 * np.cos(angle)) / np.sin(angle)\n",
    "        y1 = (dist - imgs_edges[image_index].shape[1] * np.cos(angle)) / np.sin(angle)\n",
    "        color = random_color()\n",
    "        plt.plot(p0[0], p0[1], 'o', color=color)\n",
    "        plt.plot(p1[0], p1[1], 'o', color=color)\n",
    "        lines.append((angle, dist, p0, p1))"
   ],
   "outputs": [
    {
     "data": {
      "text/plain": [
       "interactive(children=(IntSlider(value=10, description='image_index', max=20), Output()), _dom_classes=('widget…"
      ],
      "application/vnd.jupyter.widget-view+json": {
       "version_major": 2,
       "version_minor": 0,
       "model_id": "6f771c5d6f634d0b8410457843757987"
      }
     },
     "metadata": {},
     "output_type": "display_data"
    }
   ],
   "execution_count": 81
  },
  {
   "cell_type": "code",
   "id": "96ab9ea100d6254b",
   "metadata": {
    "ExecuteTime": {
     "end_time": "2024-10-29T21:12:25.802445Z",
     "start_time": "2024-10-29T21:12:25.787514Z"
    }
   },
   "source": [
    "max_absolut_position = 2500\n",
    "\n",
    "\n",
    "def line_intersections(imgs_lines):\n",
    "    intersections = []\n",
    "    for i in range(len(imgs_lines)):\n",
    "        lines = []\n",
    "        for _, _, _, p0, p1 in imgs_lines[i]:\n",
    "            line = np.cross(p0, p1)\n",
    "            lines.append(line)\n",
    "\n",
    "        img_intersection = []\n",
    "        for i in range(len(lines)):\n",
    "            if i == len(lines) - 1:\n",
    "                break\n",
    "            for j in range(i + 1, len(lines) - 1):\n",
    "                e = np.cross(lines[i], lines[j])\n",
    "                if e[2] == 0:\n",
    "                    continue\n",
    "                e_cart = e / e[2]\n",
    "                if np.abs(e_cart[0]) < max_absolut_position and np.abs(e_cart[1]) < max_absolut_position:\n",
    "                    img_intersection.append(e)\n",
    "        intersections.append(img_intersection)\n",
    "    return intersections\n",
    "\n",
    "\n",
    "imgs_intersections = line_intersections(imgs_lines)"
   ],
   "outputs": [],
   "execution_count": 82
  },
  {
   "cell_type": "code",
   "id": "d99696def4f1ad0f",
   "metadata": {
    "ExecuteTime": {
     "end_time": "2024-10-29T21:12:25.929068Z",
     "start_time": "2024-10-29T21:12:25.809829Z"
    }
   },
   "source": [
    "# plot intersection points\n",
    "@widgets.interact(image_index=(0, len(images) - 1, 1))\n",
    "def plot_points(image_index):\n",
    "    plt.imshow(images[image_index], cmap=\"gray\")\n",
    "    for index, intersection in enumerate(imgs_intersections[image_index]):\n",
    "        plt.plot(intersection[0] / intersection[2], intersection[1] / intersection[2], 'ro')\n",
    "        plt.text(intersection[0] / intersection[2] + 100, intersection[1] / intersection[2] + 100, f'{index}',\n",
    "                 color='red')\n",
    "    plt.show()"
   ],
   "outputs": [
    {
     "data": {
      "text/plain": [
       "interactive(children=(IntSlider(value=10, description='image_index', max=20), Output()), _dom_classes=('widget…"
      ],
      "application/vnd.jupyter.widget-view+json": {
       "version_major": 2,
       "version_minor": 0,
       "model_id": "22ef1d72899242c68e4d1307a89d36dd"
      }
     },
     "metadata": {},
     "output_type": "display_data"
    }
   ],
   "execution_count": 83
  },
  {
   "cell_type": "markdown",
   "id": "b354d3b662b69868",
   "metadata": {},
   "source": [
    "# Straigthening the paper distorted by perspective"
   ]
  },
  {
   "cell_type": "code",
   "id": "24d71ebdc9174b5a",
   "metadata": {
    "ExecuteTime": {
     "end_time": "2024-10-29T21:12:26.099034Z",
     "start_time": "2024-10-29T21:12:25.942496Z"
    }
   },
   "source": [
    "def find_perspective_transform(imgs_intersections):\n",
    "    transformed_images = []\n",
    "    for img_index, intersections in enumerate(imgs_intersections):\n",
    "        if len(intersections) < 4:\n",
    "            print(\"Not enough intersection points found\")\n",
    "            continue\n",
    "            \n",
    "        w, h = 880, 1250  # we assume 10 pixels per mm\n",
    "        A = np.array([0, h])\n",
    "        B = np.array([w, h])\n",
    "        C = np.array([w, 0])\n",
    "        D = np.array([0, 0])\n",
    "\n",
    "        # from homogeneous to cartesian\n",
    "        dst = [\n",
    "            np.array([intersections[0][0] / intersections[0][2], intersections[0][1] / intersections[0][2]]),\n",
    "            np.array([intersections[1][0] / intersections[1][2], intersections[1][1] / intersections[1][2]]),\n",
    "            np.array([intersections[2][0] / intersections[2][2], intersections[2][1] / intersections[2][2]]),\n",
    "            np.array([intersections[3][0] / intersections[3][2], intersections[3][1] / intersections[3][2]])\n",
    "        ]\n",
    "        # sort dst by x\n",
    "        top_points = sorted(dst, key=lambda y: y[1])[0:2]\n",
    "        bottom_points = sorted(dst, key=lambda y: y[1])[2:4]\n",
    "        # sort dst by y\n",
    "\n",
    "        dst = sorted(bottom_points, key=lambda x: x[0]) + sorted(top_points, key=lambda x: x[0])[::-1]\n",
    "\n",
    "        invtf = skimage.transform.estimate_transform(\"projective\", src=np.vstack((A, B, C, D)), dst=np.vstack(dst))\n",
    "        tim = skimage.transform.warp(image=images[img_index], inverse_map=invtf, output_shape=(h, w))\n",
    "        transformed_images.append(tim)\n",
    "    return transformed_images\n",
    "\n",
    "transformed_images = find_perspective_transform(imgs_intersections)"
   ],
   "outputs": [
    {
     "name": "stdout",
     "output_type": "stream",
     "text": [
      "Not enough intersection points found\n",
      "Not enough intersection points found\n",
      "Not enough intersection points found\n"
     ]
    }
   ],
   "execution_count": 84
  },
  {
   "cell_type": "code",
   "id": "3f5c2f8a2b396076",
   "metadata": {
    "ExecuteTime": {
     "end_time": "2024-10-29T21:12:26.180930Z",
     "start_time": "2024-10-29T21:12:26.106914Z"
    }
   },
   "source": [
    "# plot transformed images\n",
    "@widgets.interact(image_index=(0, len(images) - 1, 1))\n",
    "def plot_images(image_index=7):\n",
    "    plt.imshow(transformed_images[image_index], cmap=\"gray\")"
   ],
   "outputs": [
    {
     "data": {
      "text/plain": [
       "interactive(children=(IntSlider(value=7, description='image_index', max=20), Output()), _dom_classes=('widget-…"
      ],
      "application/vnd.jupyter.widget-view+json": {
       "version_major": 2,
       "version_minor": 0,
       "model_id": "f4e924f82c764bf1930c941705649c98"
      }
     },
     "metadata": {},
     "output_type": "display_data"
    }
   ],
   "execution_count": 85
  },
  {
   "cell_type": "code",
   "id": "847c4607d062b666",
   "metadata": {
    "ExecuteTime": {
     "end_time": "2024-10-29T21:12:26.199450Z",
     "start_time": "2024-10-29T21:12:26.197349Z"
    }
   },
   "source": [],
   "outputs": [],
   "execution_count": null
  }
 ],
 "metadata": {
  "kernelspec": {
   "display_name": "Python 3 (ipykernel)",
   "language": "python",
   "name": "python3"
  },
  "language_info": {
   "codemirror_mode": {
    "name": "ipython",
    "version": 3
   },
   "file_extension": ".py",
   "mimetype": "text/x-python",
   "name": "python",
   "nbconvert_exporter": "python",
   "pygments_lexer": "ipython3",
   "version": "3.12.5"
  }
 },
 "nbformat": 4,
 "nbformat_minor": 5
}
