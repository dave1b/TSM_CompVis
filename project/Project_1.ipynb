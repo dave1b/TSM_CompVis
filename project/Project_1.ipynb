{
 "cells": [
  {
   "cell_type": "code",
   "id": "initial_id",
   "metadata": {
    "collapsed": true,
    "ExecuteTime": {
     "end_time": "2024-10-29T14:23:10.610219Z",
     "start_time": "2024-10-29T14:23:10.193306Z"
    }
   },
   "source": [
    "import os\n",
    "\n",
    "import skimage.feature\n",
    "import skimage.transform.hough_transform as ht\n",
    "import matplotlib.pyplot as plt\n",
    "import numpy as np\n",
    "import ipywidgets as widgets\n",
    "from skimage.io import imread"
   ],
   "outputs": [],
   "execution_count": 2
  },
  {
   "metadata": {
    "ExecuteTime": {
     "end_time": "2024-10-29T14:23:10.616026Z",
     "start_time": "2024-10-29T14:23:10.614492Z"
    }
   },
   "cell_type": "code",
   "source": [
    "import random\n",
    "\n",
    "\n",
    "def random_color():\n",
    "    return (random.random(), random.random(), random.random())"
   ],
   "id": "de86016b3c621db7",
   "outputs": [],
   "execution_count": 3
  },
  {
   "metadata": {},
   "cell_type": "markdown",
   "source": "### Load images",
   "id": "c117dc910896c797"
  },
  {
   "metadata": {
    "ExecuteTime": {
     "end_time": "2024-10-29T14:23:10.621386Z",
     "start_time": "2024-10-29T14:23:10.619371Z"
    }
   },
   "cell_type": "code",
   "source": [
    "folder_1 = \"images_vol_1\"\n",
    "folder_2 = \"images_vol_2\"\n",
    "images = []\n",
    "\n",
    "\n",
    "def load_images_from_folder(folder):\n",
    "    images = []\n",
    "    for filename in os.listdir(folder):\n",
    "        if filename.endswith(\".jpg\") or filename.endswith(\".png\"):\n",
    "            img = imread(os.path.join(folder, filename))\n",
    "            if img is not None:\n",
    "                scaled_image = skimage.transform.resize(img, (img.shape[0] // 2, img.shape[1] // 2))\n",
    "                img_bw = skimage.color.rgb2gray(scaled_image)\n",
    "                images.append(img_bw)\n",
    "    return images\n",
    "\n",
    "\n",
    "def crop_image(img, border_size=10):\n",
    "    return img[border_size:-border_size, border_size:-border_size]"
   ],
   "id": "55ae8f750650c8d7",
   "outputs": [],
   "execution_count": 4
  },
  {
   "metadata": {
    "ExecuteTime": {
     "end_time": "2024-10-29T14:23:22.838814Z",
     "start_time": "2024-10-29T14:23:10.626654Z"
    }
   },
   "cell_type": "code",
   "source": "images = load_images_from_folder(folder_1)",
   "id": "8f904997b01e71ca",
   "outputs": [],
   "execution_count": 5
  },
  {
   "metadata": {
    "ExecuteTime": {
     "end_time": "2024-10-29T14:23:22.965138Z",
     "start_time": "2024-10-29T14:23:22.843965Z"
    }
   },
   "cell_type": "code",
   "source": [
    "@widgets.interact(image_index=(0, len(images) - 1, 1))\n",
    "def plot_images(image_index):\n",
    "    plt.imshow(images[image_index], cmap=\"gray\")"
   ],
   "id": "7f3b7f390c584183",
   "outputs": [
    {
     "data": {
      "text/plain": [
       "interactive(children=(IntSlider(value=10, description='image_index', max=20), Output()), _dom_classes=('widget…"
      ],
      "application/vnd.jupyter.widget-view+json": {
       "version_major": 2,
       "version_minor": 0,
       "model_id": "b376886bd3994c48938a1927b313007b"
      }
     },
     "metadata": {},
     "output_type": "display_data"
    }
   ],
   "execution_count": 6
  },
  {
   "metadata": {},
   "cell_type": "markdown",
   "source": "## Edge detection",
   "id": "7a321d9d8fa1c27b"
  },
  {
   "metadata": {
    "ExecuteTime": {
     "end_time": "2024-10-29T14:23:22.980653Z",
     "start_time": "2024-10-29T14:23:22.978908Z"
    }
   },
   "cell_type": "code",
   "source": [
    "def edge_detection(images, sigma=2.5, low_threshold=0.1, high_threshold=0.3):\n",
    "    imgs_edges = []\n",
    "\n",
    "    for img in images:\n",
    "        imgs_edges.append(\n",
    "            skimage.feature.canny(img, low_threshold=low_threshold, high_threshold=high_threshold, sigma=sigma))\n",
    "    return imgs_edges"
   ],
   "id": "f821018b48d72a5",
   "outputs": [],
   "execution_count": 7
  },
  {
   "metadata": {
    "ExecuteTime": {
     "end_time": "2024-10-29T14:23:23.177921Z",
     "start_time": "2024-10-29T14:23:22.985772Z"
    }
   },
   "cell_type": "code",
   "source": [
    "# plot edges for each image with setting the threshold etc.\n",
    "@widgets.interact(image_index=(0, len(images) - 1, 1), sigma=(0.1, 5, 0.1), low_threshold=(0, 1, 0.01),\n",
    "                  high_threshold=(0, 1, 0.01))\n",
    "def plot_edges(image_index, sigma=2.5, low_threshold=0.1, high_threshold=0.3):\n",
    "    plt.imshow(edge_detection([images[image_index]], sigma=sigma, low_threshold=low_threshold,\n",
    "                              high_threshold=high_threshold)[0])\n"
   ],
   "id": "3b53e3e88a8b4dd7",
   "outputs": [
    {
     "data": {
      "text/plain": [
       "interactive(children=(IntSlider(value=10, description='image_index', max=20), FloatSlider(value=2.5, descripti…"
      ],
      "application/vnd.jupyter.widget-view+json": {
       "version_major": 2,
       "version_minor": 0,
       "model_id": "8fe0ee3ef4d3470faeb11f8c31873d91"
      }
     },
     "metadata": {},
     "output_type": "display_data"
    }
   ],
   "execution_count": 8
  },
  {
   "metadata": {
    "ExecuteTime": {
     "end_time": "2024-10-29T14:23:25.208487Z",
     "start_time": "2024-10-29T14:23:23.185441Z"
    }
   },
   "cell_type": "code",
   "source": "imgs_edges = edge_detection(images, sigma=2.5, low_threshold=0.1, high_threshold=0.3)",
   "id": "f1d56d56e6bdac31",
   "outputs": [],
   "execution_count": 9
  },
  {
   "metadata": {
    "ExecuteTime": {
     "end_time": "2024-10-29T14:23:25.385968Z",
     "start_time": "2024-10-29T14:23:25.384446Z"
    }
   },
   "cell_type": "code",
   "source": "# imgs_edges = [crop_image(img) for img in imgs_edges]",
   "id": "691c131e8753ebf4",
   "outputs": [],
   "execution_count": 10
  },
  {
   "metadata": {
    "ExecuteTime": {
     "end_time": "2024-10-29T14:23:25.475183Z",
     "start_time": "2024-10-29T14:23:25.395053Z"
    }
   },
   "cell_type": "code",
   "source": [
    "@widgets.interact(image_index=(0, len(images) - 1, 1))\n",
    "def plot_lines(image_index):\n",
    "    plt.imshow(imgs_edges[image_index])"
   ],
   "id": "76d21d29e4c3f25b",
   "outputs": [
    {
     "data": {
      "text/plain": [
       "interactive(children=(IntSlider(value=10, description='image_index', max=20), Output()), _dom_classes=('widget…"
      ],
      "application/vnd.jupyter.widget-view+json": {
       "version_major": 2,
       "version_minor": 0,
       "model_id": "fd3ca8e08fec455cb79a505551d5b8fd"
      }
     },
     "metadata": {},
     "output_type": "display_data"
    }
   ],
   "execution_count": 11
  },
  {
   "metadata": {},
   "cell_type": "markdown",
   "source": "## Hough transform",
   "id": "c11b7efbc7961027"
  },
  {
   "metadata": {
    "ExecuteTime": {
     "end_time": "2024-10-29T14:23:25.964066Z",
     "start_time": "2024-10-29T14:23:25.481047Z"
    }
   },
   "cell_type": "code",
   "source": [
    "def find_lines(imgs_edges, threshold=15):\n",
    "    lines_list = []\n",
    "    for index, img_edges in enumerate(imgs_edges):\n",
    "        # Perform Hough transform\n",
    "        hspace, angles, dists = ht.hough_line(img_edges)\n",
    "\n",
    "        # Find peaks in the Hough transform\n",
    "        hspace_peaks, angles_peaks, dists_peaks = ht.hough_line_peaks(hspace, angles, dists, threshold=threshold)\n",
    "\n",
    "        # Collect the lines\n",
    "        lines = []\n",
    "        for angle, dist in zip(angles_peaks, dists_peaks):\n",
    "            p0 = (dist * np.cos(angle), dist * np.sin(angle))\n",
    "            p1 = (p0[0] + 1000 * np.sin(angle), p0[1] - 1000 * np.cos(angle))\n",
    "            lines.append((angle, dist, img_edges, np.array((*p0, 1)), np.array((*p1, 1))))\n",
    "        lines_list.append(lines)\n",
    "    return lines_list\n",
    "\n",
    "\n",
    "# Example usage\n",
    "imgs_lines = find_lines(imgs_edges, 100)"
   ],
   "id": "5a448d8de506a01b",
   "outputs": [],
   "execution_count": 12
  },
  {
   "metadata": {
    "ExecuteTime": {
     "end_time": "2024-10-29T14:23:25.970281Z",
     "start_time": "2024-10-29T14:23:25.968697Z"
    }
   },
   "cell_type": "code",
   "source": "print(f'On average {np.mean([len(lines) for lines in imgs_lines]):.1f} lines per image')",
   "id": "27941f4d1a312454",
   "outputs": [
    {
     "name": "stdout",
     "output_type": "stream",
     "text": [
      "On average 7.5 lines per image\n"
     ]
    }
   ],
   "execution_count": 13
  },
  {
   "metadata": {
    "ExecuteTime": {
     "end_time": "2024-10-29T14:23:26.029817Z",
     "start_time": "2024-10-29T14:23:25.984778Z"
    }
   },
   "cell_type": "code",
   "source": [
    "# plot lines for each image\n",
    "@widgets.interact(image_index=(0, len(images) - 1, 1))\n",
    "def plot_lines(image_index):\n",
    "    # Set the DPI (dots per inch)\n",
    "    plt.imshow(imgs_edges[image_index])\n",
    "    for angle, dist, _, p0, p1 in imgs_lines[image_index]:\n",
    "        y0 = (dist - 0 * np.cos(angle)) / np.sin(angle)\n",
    "        y1 = (dist - imgs_edges[image_index].shape[1] * np.cos(angle)) / np.sin(angle)\n",
    "        plt.plot(p0[0], p0[1], 'ro')\n",
    "        plt.plot(p1[0], p1[1], 'ro')\n",
    "        plt.plot((0, imgs_edges[image_index].shape[1]), (y0, y1), color=\"red\")"
   ],
   "id": "f9db714165243439",
   "outputs": [
    {
     "data": {
      "text/plain": [
       "interactive(children=(IntSlider(value=10, description='image_index', max=20), Output()), _dom_classes=('widget…"
      ],
      "application/vnd.jupyter.widget-view+json": {
       "version_major": 2,
       "version_minor": 0,
       "model_id": "6e68c059d71649d393ff531e50076db2"
      }
     },
     "metadata": {},
     "output_type": "display_data"
    }
   ],
   "execution_count": 14
  },
  {
   "metadata": {
    "ExecuteTime": {
     "end_time": "2024-10-29T14:23:26.218089Z",
     "start_time": "2024-10-29T14:23:26.036028Z"
    }
   },
   "cell_type": "code",
   "source": [
    "@widgets.interact(image_index=(0, len(images) - 1, 1))\n",
    "def plot_lines(image_index):\n",
    "    plt.imshow(imgs_edges[image_index])\n",
    "    for angle, dist, edges, p0, p1 in imgs_lines[image_index]:\n",
    "        # Find all pixels in the edge image that align with this line\n",
    "        y_idxs, x_idxs = np.nonzero(edges)\n",
    "        coords = []\n",
    "\n",
    "        for x, y in zip(x_idxs, y_idxs):\n",
    "            # Calculate rho for each (x, y) and check if it lies near the detected line\n",
    "            rho = x * np.cos(angle) + y * np.sin(angle)\n",
    "            if np.abs(rho - dist) < 2:  # Threshold tolerance for matching line points\n",
    "                coords.append((x, y))\n",
    "\n",
    "        # If we have points for this line, find the endpoints\n",
    "        if coords:\n",
    "            x_coords, y_coords = zip(*coords)\n",
    "            plt.plot(x_coords, y_coords, '-r')  # Plot line segment in red"
   ],
   "id": "c7b9637dd91dde13",
   "outputs": [
    {
     "data": {
      "text/plain": [
       "interactive(children=(IntSlider(value=10, description='image_index', max=20), Output()), _dom_classes=('widget…"
      ],
      "application/vnd.jupyter.widget-view+json": {
       "version_major": 2,
       "version_minor": 0,
       "model_id": "acef9dd533fd4f898163ece80c0072a9"
      }
     },
     "metadata": {},
     "output_type": "display_data"
    }
   ],
   "execution_count": 15
  },
  {
   "metadata": {
    "ExecuteTime": {
     "end_time": "2024-10-29T14:23:26.313595Z",
     "start_time": "2024-10-29T14:23:26.224813Z"
    }
   },
   "cell_type": "code",
   "source": [
    "# plot lines for each image\n",
    "@widgets.interact(image_index=(0, len(images) - 1, 1))\n",
    "def plot_points(image_index):\n",
    "    lines = []\n",
    "    plt.imshow(imgs_edges[image_index])\n",
    "    for angle, dist, _, p0, p1 in imgs_lines[image_index]:\n",
    "        y0 = (dist - 0 * np.cos(angle)) / np.sin(angle)\n",
    "        y1 = (dist - imgs_edges[image_index].shape[1] * np.cos(angle)) / np.sin(angle)\n",
    "        color = random_color()\n",
    "        plt.plot(p0[0], p0[1], 'o', color=color)\n",
    "        plt.plot(p1[0], p1[1], 'o', color=color)\n",
    "        lines.append((angle, dist, p0, p1))"
   ],
   "id": "62bd9c3d9680d68f",
   "outputs": [
    {
     "data": {
      "text/plain": [
       "interactive(children=(IntSlider(value=10, description='image_index', max=20), Output()), _dom_classes=('widget…"
      ],
      "application/vnd.jupyter.widget-view+json": {
       "version_major": 2,
       "version_minor": 0,
       "model_id": "c433d9769fa04c7781e4c27a954736c6"
      }
     },
     "metadata": {},
     "output_type": "display_data"
    }
   ],
   "execution_count": 16
  },
  {
   "metadata": {
    "ExecuteTime": {
     "end_time": "2024-10-29T14:23:26.339509Z",
     "start_time": "2024-10-29T14:23:26.328300Z"
    }
   },
   "cell_type": "code",
   "source": [
    "max_absolut_position = 2500\n",
    "\n",
    "\n",
    "def line_intersections(imgs_lines):\n",
    "    intersections = []\n",
    "    for i in range(len(imgs_lines)):\n",
    "        lines = []\n",
    "        for _, _, _, p0, p1 in imgs_lines[i]:\n",
    "            line = np.cross(p0, p1)\n",
    "            lines.append(line)\n",
    "\n",
    "        img_intersection = []\n",
    "        for i in range(len(lines)):\n",
    "            if i == len(lines) - 1:\n",
    "                break\n",
    "            for j in range(i + 1, len(lines) - 1):\n",
    "                e = np.cross(lines[i], lines[j])\n",
    "                e_cart = e / e[2]\n",
    "                if np.abs(e_cart[0]) < max_absolut_position and np.abs(e_cart[1]) < max_absolut_position:\n",
    "                    img_intersection.append(e)\n",
    "        intersections.append(img_intersection)\n",
    "    return intersections\n",
    "\n",
    "\n",
    "imgs_intersections = line_intersections(imgs_lines)"
   ],
   "id": "96ab9ea100d6254b",
   "outputs": [
    {
     "name": "stderr",
     "output_type": "stream",
     "text": [
      "/var/folders/ft/p6xwtlq12ygfhmnytl1ngxdm0000gn/T/ipykernel_7292/2592067629.py:18: RuntimeWarning: divide by zero encountered in divide\n",
      "  e_cart = e / e[2]\n",
      "/var/folders/ft/p6xwtlq12ygfhmnytl1ngxdm0000gn/T/ipykernel_7292/2592067629.py:18: RuntimeWarning: invalid value encountered in divide\n",
      "  e_cart = e / e[2]\n"
     ]
    }
   ],
   "execution_count": 17
  },
  {
   "metadata": {
    "ExecuteTime": {
     "end_time": "2024-10-29T14:23:26.466150Z",
     "start_time": "2024-10-29T14:23:26.351216Z"
    }
   },
   "cell_type": "code",
   "source": [
    "# plot intersection points\n",
    "@widgets.interact(image_index=(0, len(images) - 1, 1))\n",
    "def plot_points(image_index):\n",
    "    plt.imshow(images[image_index], cmap=\"gray\")\n",
    "    for index, intersection in enumerate(imgs_intersections[image_index]):\n",
    "        plt.plot(intersection[0] / intersection[2], intersection[1] / intersection[2], 'ro')\n",
    "        plt.text(intersection[0] / intersection[2] + 100, intersection[1] / intersection[2] + 100, f'{index}',\n",
    "                 color='red')\n",
    "    plt.show()"
   ],
   "id": "d99696def4f1ad0f",
   "outputs": [
    {
     "data": {
      "text/plain": [
       "interactive(children=(IntSlider(value=10, description='image_index', max=20), Output()), _dom_classes=('widget…"
      ],
      "application/vnd.jupyter.widget-view+json": {
       "version_major": 2,
       "version_minor": 0,
       "model_id": "968779d0aa534afcbef44ce124f87019"
      }
     },
     "metadata": {},
     "output_type": "display_data"
    }
   ],
   "execution_count": 18
  },
  {
   "metadata": {},
   "cell_type": "markdown",
   "source": "# Straigthening the paper distorted by perspective",
   "id": "b354d3b662b69868"
  },
  {
   "metadata": {
    "ExecuteTime": {
     "end_time": "2024-10-29T14:25:35.027520Z",
     "start_time": "2024-10-29T14:25:34.776686Z"
    }
   },
   "cell_type": "code",
   "source": [
    "def find_perspective_transform(imgs_intersections):\n",
    "    transformed_images = []\n",
    "    for img_index, intersections in enumerate(imgs_intersections):\n",
    "        if len(intersections) < 4:\n",
    "            print(\"Not enough intersection points found\")\n",
    "            continue\n",
    "            \n",
    "        w, h = 880, 1250  # we assume 10 pixels per mm\n",
    "        A = np.array([0, h])\n",
    "        B = np.array([w, h])\n",
    "        C = np.array([w, 0])\n",
    "        D = np.array([0, 0])\n",
    "\n",
    "        # from homogeneous to cartesian\n",
    "        dst = [\n",
    "            np.array([intersections[0][0] / intersections[0][2], intersections[0][1] / intersections[0][2]]),\n",
    "            np.array([intersections[1][0] / intersections[1][2], intersections[1][1] / intersections[1][2]]),\n",
    "            np.array([intersections[2][0] / intersections[2][2], intersections[2][1] / intersections[2][2]]),\n",
    "            np.array([intersections[3][0] / intersections[3][2], intersections[3][1] / intersections[3][2]])\n",
    "        ]\n",
    "        # sort dst by x\n",
    "        top_points = sorted(dst, key=lambda y: y[1])[0:2]\n",
    "        bottom_points = sorted(dst, key=lambda y: y[1])[2:4]\n",
    "        # sort dst by y\n",
    "\n",
    "        dst = sorted(bottom_points, key=lambda x: x[0]) + sorted(top_points, key=lambda x: x[0])[::-1]\n",
    "\n",
    "        invtf = skimage.transform.estimate_transform(\"projective\", src=np.vstack((A, B, C, D)), dst=np.vstack(dst))\n",
    "        tim = skimage.transform.warp(image=images[img_index], inverse_map=invtf, output_shape=(h, w))\n",
    "        transformed_images.append(tim)\n",
    "    return transformed_images\n",
    "\n",
    "transformed_images = find_perspective_transform(imgs_intersections)"
   ],
   "id": "24d71ebdc9174b5a",
   "outputs": [
    {
     "name": "stdout",
     "output_type": "stream",
     "text": [
      "Not enough intersection points found\n",
      "Not enough intersection points found\n",
      "Not enough intersection points found\n"
     ]
    },
    {
     "data": {
      "text/plain": [
       "<matplotlib.image.AxesImage at 0x14fdd8f50>"
      ]
     },
     "execution_count": 24,
     "metadata": {},
     "output_type": "execute_result"
    },
    {
     "data": {
      "text/plain": [
       "<Figure size 640x480 with 1 Axes>"
      ],
      "image/png": "[encoded data removed]"
     },
     "metadata": {},
     "output_type": "display_data"
    }
   ],
   "execution_count": 24
  },
  {
   "metadata": {
    "ExecuteTime": {
     "end_time": "2024-10-29T14:26:01.153674Z",
     "start_time": "2024-10-29T14:26:01.080577Z"
    }
   },
   "cell_type": "code",
   "source": [
    "# plot transformed images\n",
    "@widgets.interact(image_index=(0, len(images) - 1, 1))\n",
    "def plot_images(image_index=7):\n",
    "    plt.imshow(transformed_images[image_index], cmap=\"gray\")"
   ],
   "id": "3f5c2f8a2b396076",
   "outputs": [
    {
     "data": {
      "text/plain": [
       "interactive(children=(IntSlider(value=7, description='image_index', max=20), Output()), _dom_classes=('widget-…"
      ],
      "application/vnd.jupyter.widget-view+json": {
       "version_major": 2,
       "version_minor": 0,
       "model_id": "a2e38988d3f945848d375645226c712a"
      }
     },
     "metadata": {},
     "output_type": "display_data"
    }
   ],
   "execution_count": 26
  },
  {
   "metadata": {
    "ExecuteTime": {
     "end_time": "2024-10-29T14:23:27.031052Z",
     "start_time": "2024-10-29T14:23:27.029286Z"
    }
   },
   "cell_type": "code",
   "source": "",
   "id": "847c4607d062b666",
   "outputs": [],
   "execution_count": null
  }
 ],
 "metadata": {
  "kernelspec": {
   "display_name": "Python 3",
   "language": "python",
   "name": "python3"
  },
  "language_info": {
   "codemirror_mode": {
    "name": "ipython",
    "version": 2
   },
   "file_extension": ".py",
   "mimetype": "text/x-python",
   "name": "python",
   "nbconvert_exporter": "python",
   "pygments_lexer": "ipython2",
   "version": "2.7.6"
  }
 },
 "nbformat": 4,
 "nbformat_minor": 5
}
