{
 "cells": [
  {
   "cell_type": "code",
   "id": "initial_id",
   "metadata": {
    "collapsed": true,
    "ExecuteTime": {
     "end_time": "2024-10-15T13:45:18.278158Z",
     "start_time": "2024-10-15T13:45:18.275867Z"
    }
   },
   "source": [
    "import os\n",
    "\n",
    "import skimage.feature\n",
    "import skimage.transform.hough_transform as ht\n",
    "import matplotlib.pyplot as plt\n",
    "import numpy as np\n",
    "import ipywidgets as widgets\n",
    "from skimage.io import imread"
   ],
   "outputs": [],
   "execution_count": 46
  },
  {
   "metadata": {},
   "cell_type": "markdown",
   "source": "### Load images",
   "id": "c117dc910896c797"
  },
  {
   "metadata": {
    "ExecuteTime": {
     "end_time": "2024-10-15T13:45:18.295158Z",
     "start_time": "2024-10-15T13:45:18.292291Z"
    }
   },
   "cell_type": "code",
   "source": [
    "folder_1 = \"images_vol_1\"\n",
    "folder_2 = \"images_vol_2\"\n",
    "images = []\n",
    "\n",
    "def load_images_from_folder(folder):\n",
    "    images = []\n",
    "    for filename in os.listdir(folder):\n",
    "        if filename.endswith(\".jpg\") or filename.endswith(\".png\"):\n",
    "            img = imread(os.path.join(folder, filename))\n",
    "            if img is not None:\n",
    "                scaled_image = skimage.transform.resize(img, (img.shape[0] // 2, img.shape[1] // 2))\n",
    "                img_bw = skimage.color.rgb2gray(scaled_image)\n",
    "                images.append(img_bw)\n",
    "    return images\n",
    "\n",
    "def crop_image(img, border_size=10):\n",
    "    return img[border_size:-border_size, border_size:-border_size]"
   ],
   "id": "55ae8f750650c8d7",
   "outputs": [],
   "execution_count": 47
  },
  {
   "metadata": {
    "ExecuteTime": {
     "end_time": "2024-10-15T13:45:30.548558Z",
     "start_time": "2024-10-15T13:45:18.302082Z"
    }
   },
   "cell_type": "code",
   "source": "images = load_images_from_folder(folder_1)",
   "id": "8f904997b01e71ca",
   "outputs": [],
   "execution_count": 48
  },
  {
   "metadata": {
    "ExecuteTime": {
     "end_time": "2024-10-15T13:45:30.662802Z",
     "start_time": "2024-10-15T13:45:30.554464Z"
    }
   },
   "cell_type": "code",
   "source": [
    "@widgets.interact(image_index=(0, len(images) - 1, 1))\n",
    "def plot_images(image_index):\n",
    "    plt.imshow(images[image_index], cmap=\"gray\")"
   ],
   "id": "7f3b7f390c584183",
   "outputs": [
    {
     "data": {
      "text/plain": [
       "interactive(children=(IntSlider(value=10, description='image_index', max=20), Output()), _dom_classes=('widget…"
      ],
      "application/vnd.jupyter.widget-view+json": {
       "version_major": 2,
       "version_minor": 0,
       "model_id": "34c5619033c54b07a4b2b2d739292f8f"
      }
     },
     "metadata": {},
     "output_type": "display_data"
    }
   ],
   "execution_count": 49
  },
  {
   "metadata": {},
   "cell_type": "markdown",
   "source": "## Edge detection",
   "id": "7a321d9d8fa1c27b"
  },
  {
   "metadata": {
    "ExecuteTime": {
     "end_time": "2024-10-15T13:55:21.359911Z",
     "start_time": "2024-10-15T13:55:21.357019Z"
    }
   },
   "cell_type": "code",
   "source": [
    "def gaussian_filter(images, sigma=2.5):\n",
    "    ims_filtered = []\n",
    "    for img in images:\n",
    "        ims_filtered.append(skimage.filters.gaussian(img, sigma=sigma, mode='constant', cval=0.0))\n",
    "    return ims_filtered\n",
    "\n",
    "\n",
    "def edge_detection(images):\n",
    "    imgs_edges = []\n",
    "    low_threshold = 0.1\n",
    "    high_threshold = 0.3\n",
    "\n",
    "    for img in images:\n",
    "        imgs_edges.append(\n",
    "            skimage.feature.canny(img, low_threshold=low_threshold, high_threshold=high_threshold))\n",
    "    return imgs_edges"
   ],
   "id": "f821018b48d72a5",
   "outputs": [],
   "execution_count": 90
  },
  {
   "metadata": {
    "ExecuteTime": {
     "end_time": "2024-10-15T13:55:21.958902Z",
     "start_time": "2024-10-15T13:55:21.368851Z"
    }
   },
   "cell_type": "code",
   "source": "imgs_filtered = gaussian_filter(images)",
   "id": "d4af8016bd65b974",
   "outputs": [],
   "execution_count": 91
  },
  {
   "metadata": {
    "ExecuteTime": {
     "end_time": "2024-10-15T13:55:22.067394Z",
     "start_time": "2024-10-15T13:55:21.966213Z"
    }
   },
   "cell_type": "code",
   "source": [
    "@widgets.interact(image_index=(0, len(images) - 1, 1))\n",
    "def plot_images(image_index):\n",
    "    plt.imshow(imgs_filtered[image_index], cmap=\"gray\")"
   ],
   "id": "3b53e3e88a8b4dd7",
   "outputs": [
    {
     "data": {
      "text/plain": [
       "interactive(children=(IntSlider(value=10, description='image_index', max=20), Output()), _dom_classes=('widget…"
      ],
      "application/vnd.jupyter.widget-view+json": {
       "version_major": 2,
       "version_minor": 0,
       "model_id": "ab4bd89244434216a09cfd43c8d64acc"
      }
     },
     "metadata": {},
     "output_type": "display_data"
    }
   ],
   "execution_count": 92
  },
  {
   "metadata": {
    "ExecuteTime": {
     "end_time": "2024-10-15T13:55:23.831362Z",
     "start_time": "2024-10-15T13:55:22.074313Z"
    }
   },
   "cell_type": "code",
   "source": "imgs_edges = edge_detection(imgs_filtered)",
   "id": "f1d56d56e6bdac31",
   "outputs": [],
   "execution_count": 93
  },
  {
   "metadata": {
    "ExecuteTime": {
     "end_time": "2024-10-15T13:55:23.839297Z",
     "start_time": "2024-10-15T13:55:23.837727Z"
    }
   },
   "cell_type": "code",
   "source": [
    "imgs_filtered = [crop_image(img) for img in imgs_filtered]\n",
    "imgs_edges = [crop_image(img) for img in imgs_edges]"
   ],
   "id": "691c131e8753ebf4",
   "outputs": [],
   "execution_count": 94
  },
  {
   "metadata": {
    "ExecuteTime": {
     "end_time": "2024-10-15T13:55:23.927760Z",
     "start_time": "2024-10-15T13:55:23.845313Z"
    }
   },
   "cell_type": "code",
   "source": [
    "@widgets.interact(image_index=(0, len(images) - 1, 1))\n",
    "def plot_lines(image_index):\n",
    "    plt.imshow(imgs_edges[image_index])"
   ],
   "id": "76d21d29e4c3f25b",
   "outputs": [
    {
     "data": {
      "text/plain": [
       "interactive(children=(IntSlider(value=10, description='image_index', max=20), Output()), _dom_classes=('widget…"
      ],
      "application/vnd.jupyter.widget-view+json": {
       "version_major": 2,
       "version_minor": 0,
       "model_id": "e103ccaac698434a9e59721b9405f200"
      }
     },
     "metadata": {},
     "output_type": "display_data"
    }
   ],
   "execution_count": 95
  },
  {
   "metadata": {},
   "cell_type": "markdown",
   "source": "## Hough transform",
   "id": "c11b7efbc7961027"
  },
  {
   "metadata": {
    "ExecuteTime": {
     "end_time": "2024-10-15T14:01:29.774073Z",
     "start_time": "2024-10-15T14:01:29.752479Z"
    }
   },
   "cell_type": "code",
   "source": [
    "def find_lines(imgs_edges, threshold=15):\n",
    "    lines_list = []\n",
    "    for img_edges in imgs_edges:\n",
    "        lines = ht.probabilistic_hough_line(img_edges, threshold=threshold, line_length=150, line_gap=20)\n",
    "        # select 4 longest lines\n",
    "        # ht.hough_line(img_edges), threshold=threshold, dists=[20, 20], \n",
    "        line_peaks = ht.hough_line_peaks(lines, dists=(20, 20), angles= )\n",
    "        lines_list.append(lines)\n",
    "        lines_list.append(lines)\n",
    "    return lines_list\n",
    "\n",
    "imgs_lines = find_lines(imgs_edges, 100)"
   ],
   "id": "5a448d8de506a01b",
   "outputs": [
    {
     "ename": "AttributeError",
     "evalue": "'list' object has no attribute 'shape'",
     "output_type": "error",
     "traceback": [
      "\u001B[0;31m---------------------------------------------------------------------------\u001B[0m",
      "\u001B[0;31mAttributeError\u001B[0m                            Traceback (most recent call last)",
      "Cell \u001B[0;32mIn[113], line 12\u001B[0m\n\u001B[1;32m      9\u001B[0m         lines_list\u001B[38;5;241m.\u001B[39mappend(lines)\n\u001B[1;32m     10\u001B[0m     \u001B[38;5;28;01mreturn\u001B[39;00m lines_list\n\u001B[0;32m---> 12\u001B[0m imgs_lines \u001B[38;5;241m=\u001B[39m \u001B[43mfind_lines\u001B[49m\u001B[43m(\u001B[49m\u001B[43mimgs_edges\u001B[49m\u001B[43m,\u001B[49m\u001B[43m \u001B[49m\u001B[38;5;241;43m100\u001B[39;49m\u001B[43m)\u001B[49m\n",
      "Cell \u001B[0;32mIn[113], line 7\u001B[0m, in \u001B[0;36mfind_lines\u001B[0;34m(imgs_edges, threshold)\u001B[0m\n\u001B[1;32m      4\u001B[0m lines \u001B[38;5;241m=\u001B[39m ht\u001B[38;5;241m.\u001B[39mprobabilistic_hough_line(img_edges, threshold\u001B[38;5;241m=\u001B[39mthreshold, line_length\u001B[38;5;241m=\u001B[39m\u001B[38;5;241m150\u001B[39m, line_gap\u001B[38;5;241m=\u001B[39m\u001B[38;5;241m20\u001B[39m)\n\u001B[1;32m      5\u001B[0m \u001B[38;5;66;03m# select 4 longest lines\u001B[39;00m\n\u001B[1;32m      6\u001B[0m \u001B[38;5;66;03m# ht.hough_line(img_edges), threshold=threshold, dists=[20, 20], angles=np.linspace(-np.pi / 2, np.pi / 2, 180)\u001B[39;00m\n\u001B[0;32m----> 7\u001B[0m line_peaks \u001B[38;5;241m=\u001B[39m \u001B[43mht\u001B[49m\u001B[38;5;241;43m.\u001B[39;49m\u001B[43mhough_line_peaks\u001B[49m\u001B[43m(\u001B[49m\u001B[43mlines\u001B[49m\u001B[43m,\u001B[49m\u001B[43m \u001B[49m\u001B[43mdists\u001B[49m\u001B[38;5;241;43m=\u001B[39;49m\u001B[43m(\u001B[49m\u001B[38;5;241;43m20\u001B[39;49m\u001B[43m,\u001B[49m\u001B[43m \u001B[49m\u001B[38;5;241;43m20\u001B[39;49m\u001B[43m)\u001B[49m\u001B[43m,\u001B[49m\u001B[43m \u001B[49m\u001B[43mangles\u001B[49m\u001B[38;5;241;43m=\u001B[39;49m\u001B[43mnp\u001B[49m\u001B[38;5;241;43m.\u001B[39;49m\u001B[43mlinspace\u001B[49m\u001B[43m(\u001B[49m\u001B[38;5;241;43m-\u001B[39;49m\u001B[43mnp\u001B[49m\u001B[38;5;241;43m.\u001B[39;49m\u001B[43mpi\u001B[49m\u001B[43m \u001B[49m\u001B[38;5;241;43m/\u001B[39;49m\u001B[43m \u001B[49m\u001B[38;5;241;43m2\u001B[39;49m\u001B[43m,\u001B[49m\u001B[43m \u001B[49m\u001B[43mnp\u001B[49m\u001B[38;5;241;43m.\u001B[39;49m\u001B[43mpi\u001B[49m\u001B[43m \u001B[49m\u001B[38;5;241;43m/\u001B[39;49m\u001B[43m \u001B[49m\u001B[38;5;241;43m2\u001B[39;49m\u001B[43m,\u001B[49m\u001B[43m \u001B[49m\u001B[38;5;241;43m180\u001B[39;49m\u001B[43m)\u001B[49m\u001B[43m)\u001B[49m\n\u001B[1;32m      8\u001B[0m lines_list\u001B[38;5;241m.\u001B[39mappend(lines)\n\u001B[1;32m      9\u001B[0m lines_list\u001B[38;5;241m.\u001B[39mappend(lines)\n",
      "File \u001B[0;32m~/.local/share/virtualenvs/TSM_CompVis-khMN_Opv/lib/python3.12/site-packages/skimage/transform/hough_transform.py:67\u001B[0m, in \u001B[0;36mhough_line_peaks\u001B[0;34m(hspace, angles, dists, min_distance, min_angle, threshold, num_peaks)\u001B[0m\n\u001B[1;32m     17\u001B[0m \u001B[38;5;250m\u001B[39m\u001B[38;5;124;03m\"\"\"Return peaks in a straight line Hough transform.\u001B[39;00m\n\u001B[1;32m     18\u001B[0m \n\u001B[1;32m     19\u001B[0m \u001B[38;5;124;03mIdentifies most prominent lines separated by a certain angle and distance\u001B[39;00m\n\u001B[0;32m   (...)\u001B[0m\n\u001B[1;32m     63\u001B[0m \n\u001B[1;32m     64\u001B[0m \u001B[38;5;124;03m\"\"\"\u001B[39;00m\n\u001B[1;32m     65\u001B[0m \u001B[38;5;28;01mfrom\u001B[39;00m \u001B[38;5;21;01m.\u001B[39;00m\u001B[38;5;21;01m.\u001B[39;00m\u001B[38;5;21;01mfeature\u001B[39;00m\u001B[38;5;21;01m.\u001B[39;00m\u001B[38;5;21;01mpeak\u001B[39;00m \u001B[38;5;28;01mimport\u001B[39;00m _prominent_peaks\n\u001B[0;32m---> 67\u001B[0m min_angle \u001B[38;5;241m=\u001B[39m \u001B[38;5;28mmin\u001B[39m(min_angle, \u001B[43mhspace\u001B[49m\u001B[38;5;241;43m.\u001B[39;49m\u001B[43mshape\u001B[49m[\u001B[38;5;241m1\u001B[39m])\n\u001B[1;32m     68\u001B[0m h, a, d \u001B[38;5;241m=\u001B[39m _prominent_peaks(\n\u001B[1;32m     69\u001B[0m     hspace,\n\u001B[1;32m     70\u001B[0m     min_xdistance\u001B[38;5;241m=\u001B[39mmin_angle,\n\u001B[0;32m   (...)\u001B[0m\n\u001B[1;32m     73\u001B[0m     num_peaks\u001B[38;5;241m=\u001B[39mnum_peaks,\n\u001B[1;32m     74\u001B[0m )\n\u001B[1;32m     75\u001B[0m \u001B[38;5;28;01mif\u001B[39;00m a\u001B[38;5;241m.\u001B[39msize \u001B[38;5;241m>\u001B[39m \u001B[38;5;241m0\u001B[39m:\n",
      "\u001B[0;31mAttributeError\u001B[0m: 'list' object has no attribute 'shape'"
     ]
    }
   ],
   "execution_count": 113
  },
  {
   "metadata": {
    "ExecuteTime": {
     "end_time": "2024-10-15T14:02:24.135622Z",
     "start_time": "2024-10-15T14:02:24.130757Z"
    }
   },
   "cell_type": "code",
   "source": [
    "angles=np.linspace(-np.pi / 2, np.pi / 2, 180)\n",
    "angles"
   ],
   "id": "af60ae9446ed0736",
   "outputs": [
    {
     "data": {
      "text/plain": [
       "array([-1.57079633, -1.55324553, -1.53569473, -1.51814394, -1.50059314,\n",
       "       -1.48304234, -1.46549155, -1.44794075, -1.43038995, -1.41283915,\n",
       "       -1.39528836, -1.37773756, -1.36018676, -1.34263597, -1.32508517,\n",
       "       -1.30753437, -1.28998358, -1.27243278, -1.25488198, -1.23733118,\n",
       "       -1.21978039, -1.20222959, -1.18467879, -1.167128  , -1.1495772 ,\n",
       "       -1.1320264 , -1.11447561, -1.09692481, -1.07937401, -1.06182322,\n",
       "       -1.04427242, -1.02672162, -1.00917082, -0.99162003, -0.97406923,\n",
       "       -0.95651843, -0.93896764, -0.92141684, -0.90386604, -0.88631525,\n",
       "       -0.86876445, -0.85121365, -0.83366286, -0.81611206, -0.79856126,\n",
       "       -0.78101046, -0.76345967, -0.74590887, -0.72835807, -0.71080728,\n",
       "       -0.69325648, -0.67570568, -0.65815489, -0.64060409, -0.62305329,\n",
       "       -0.60550249, -0.5879517 , -0.5704009 , -0.5528501 , -0.53529931,\n",
       "       -0.51774851, -0.50019771, -0.48264692, -0.46509612, -0.44754532,\n",
       "       -0.42999453, -0.41244373, -0.39489293, -0.37734213, -0.35979134,\n",
       "       -0.34224054, -0.32468974, -0.30713895, -0.28958815, -0.27203735,\n",
       "       -0.25448656, -0.23693576, -0.21938496, -0.20183416, -0.18428337,\n",
       "       -0.16673257, -0.14918177, -0.13163098, -0.11408018, -0.09652938,\n",
       "       -0.07897859, -0.06142779, -0.04387699, -0.0263262 , -0.0087754 ,\n",
       "        0.0087754 ,  0.0263262 ,  0.04387699,  0.06142779,  0.07897859,\n",
       "        0.09652938,  0.11408018,  0.13163098,  0.14918177,  0.16673257,\n",
       "        0.18428337,  0.20183416,  0.21938496,  0.23693576,  0.25448656,\n",
       "        0.27203735,  0.28958815,  0.30713895,  0.32468974,  0.34224054,\n",
       "        0.35979134,  0.37734213,  0.39489293,  0.41244373,  0.42999453,\n",
       "        0.44754532,  0.46509612,  0.48264692,  0.50019771,  0.51774851,\n",
       "        0.53529931,  0.5528501 ,  0.5704009 ,  0.5879517 ,  0.60550249,\n",
       "        0.62305329,  0.64060409,  0.65815489,  0.67570568,  0.69325648,\n",
       "        0.71080728,  0.72835807,  0.74590887,  0.76345967,  0.78101046,\n",
       "        0.79856126,  0.81611206,  0.83366286,  0.85121365,  0.86876445,\n",
       "        0.88631525,  0.90386604,  0.92141684,  0.93896764,  0.95651843,\n",
       "        0.97406923,  0.99162003,  1.00917082,  1.02672162,  1.04427242,\n",
       "        1.06182322,  1.07937401,  1.09692481,  1.11447561,  1.1320264 ,\n",
       "        1.1495772 ,  1.167128  ,  1.18467879,  1.20222959,  1.21978039,\n",
       "        1.23733118,  1.25488198,  1.27243278,  1.28998358,  1.30753437,\n",
       "        1.32508517,  1.34263597,  1.36018676,  1.37773756,  1.39528836,\n",
       "        1.41283915,  1.43038995,  1.44794075,  1.46549155,  1.48304234,\n",
       "        1.50059314,  1.51814394,  1.53569473,  1.55324553,  1.57079633])"
      ]
     },
     "execution_count": 115,
     "metadata": {},
     "output_type": "execute_result"
    }
   ],
   "execution_count": 115
  },
  {
   "metadata": {
    "ExecuteTime": {
     "end_time": "2024-10-15T13:55:24.101545Z",
     "start_time": "2024-10-15T13:55:24.099521Z"
    }
   },
   "cell_type": "code",
   "source": "print(f'On average {np.mean([len(lines) for lines in imgs_lines]):.1f} lines per image')",
   "id": "27941f4d1a312454",
   "outputs": [
    {
     "name": "stdout",
     "output_type": "stream",
     "text": [
      "On average 3.6 lines per image\n"
     ]
    }
   ],
   "execution_count": 97
  },
  {
   "metadata": {
    "ExecuteTime": {
     "end_time": "2024-10-15T13:56:07.361964Z",
     "start_time": "2024-10-15T13:56:07.240904Z"
    }
   },
   "cell_type": "code",
   "source": [
    "@widgets.interact(image_index=(0, len(images) - 1, 1), line_index=(0, len(imgs_lines[10]) - 1, 1), all_lines=True)\n",
    "def plot_lines(image_index, line_index, all_lines):\n",
    "    plt.imshow(imgs_filtered[image_index], cmap=\"gray\")\n",
    "    line = imgs_lines[image_index][line_index]\n",
    "    print(f'Number of lines: {len(imgs_lines[image_index])}')\n",
    "    if all_lines:\n",
    "        for line in imgs_lines[image_index]:\n",
    "            p0, p1 = line\n",
    "            plt.plot((p0[0], p1[0]), (p0[1], p1[1]), color=\"red\")\n",
    "    else:\n",
    "        p0, p1 = line\n",
    "        plt.plot((p0[0], p1[0]), (p0[1], p1[1]), color=\"red\")"
   ],
   "id": "9add4eac5ec0f61c",
   "outputs": [
    {
     "data": {
      "text/plain": [
       "interactive(children=(IntSlider(value=10, description='image_index', max=20), IntSlider(value=1, description='…"
      ],
      "application/vnd.jupyter.widget-view+json": {
       "version_major": 2,
       "version_minor": 0,
       "model_id": "0a91443f2bfb4c8aaa95e69792679cce"
      }
     },
     "metadata": {},
     "output_type": "display_data"
    }
   ],
   "execution_count": 99
  },
  {
   "metadata": {
    "ExecuteTime": {
     "end_time": "2024-10-15T13:55:24.218355Z",
     "start_time": "2024-10-15T13:55:24.216893Z"
    }
   },
   "cell_type": "code",
   "source": "",
   "id": "96ab9ea100d6254b",
   "outputs": [],
   "execution_count": null
  },
  {
   "metadata": {
    "ExecuteTime": {
     "end_time": "2024-10-15T13:55:24.226089Z",
     "start_time": "2024-10-15T13:55:24.224752Z"
    }
   },
   "cell_type": "code",
   "source": "",
   "id": "ae96755e532dc5e0",
   "outputs": [],
   "execution_count": null
  }
 ],
 "metadata": {
  "kernelspec": {
   "display_name": "Python 3",
   "language": "python",
   "name": "python3"
  },
  "language_info": {
   "codemirror_mode": {
    "name": "ipython",
    "version": 2
   },
   "file_extension": ".py",
   "mimetype": "text/x-python",
   "name": "python",
   "nbconvert_exporter": "python",
   "pygments_lexer": "ipython2",
   "version": "2.7.6"
  }
 },
 "nbformat": 4,
 "nbformat_minor": 5
}
